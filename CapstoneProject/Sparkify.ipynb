{
 "cells": [
  {
   "cell_type": "markdown",
   "metadata": {},
   "source": [
    "# Sparkify Project Workspace\n",
    "This workspace contains a tiny subset (128MB) of the full dataset available (12GB). Feel free to use this workspace to build your project, or to explore a smaller subset with Spark before deploying your cluster on the cloud. Instructions for setting up your Spark cluster is included in the last lesson of the Extracurricular Spark Course content.\n",
    "\n",
    "You can follow the steps below to guide your data analysis and model building portion of this project."
   ]
  },
  {
   "cell_type": "code",
   "execution_count": 1,
   "metadata": {},
   "outputs": [],
   "source": [
    "import seaborn as sns\n",
    "import pandas as pd\n",
    "import numpy as np\n",
    "from matplotlib import pyplot as plt\n",
    "import datetime\n",
    "%matplotlib inline\n",
    "\n",
    "# pyspark\n",
    "from pyspark.sql import SparkSession\n",
    "import pyspark.sql.functions as f\n",
    "from pyspark.sql.functions import udf\n",
    "from pyspark.sql.types import StringType\n",
    "from pyspark.sql.types import IntegerType, FloatType\n",
    "from pyspark.sql import Window\n",
    "from pyspark.ml import Pipeline\n",
    "from pyspark.ml.feature import VectorAssembler\n",
    "from pyspark.ml.tuning import CrossValidator, ParamGridBuilder\n",
    "from pyspark.ml.classification import GBTClassifier, LogisticRegression, RandomForestClassifier, LinearSVC, DecisionTreeClassifier\n",
    "from pyspark.ml.evaluation import MulticlassClassificationEvaluator,BinaryClassificationEvaluator"
   ]
  },
  {
   "cell_type": "code",
   "execution_count": 2,
   "metadata": {},
   "outputs": [],
   "source": [
    "# create a Spark session\n",
    "spark_session = SparkSession.builder.appName(\"Sparkify\").getOrCreate()"
   ]
  },
  {
   "cell_type": "markdown",
   "metadata": {},
   "source": [
    "# Load and Clean Dataset\n",
    "In this workspace, the mini-dataset file is `mini_sparkify_event_data.json`. Load and clean the dataset, checking for invalid or missing data - for example, records without userids or sessionids. "
   ]
  },
  {
   "cell_type": "code",
   "execution_count": 3,
   "metadata": {},
   "outputs": [],
   "source": [
    "events = (spark_session\n",
    "          .read\n",
    "          .json('mini_sparkify_event_data.json.gz')\n",
    "          .cache())"
   ]
  },
  {
   "cell_type": "code",
   "execution_count": 4,
   "metadata": {},
   "outputs": [
    {
     "name": "stdout",
     "output_type": "stream",
     "text": [
      "Total number of events: 286500\n"
     ]
    }
   ],
   "source": [
    "print(\"Total number of events: {}\".format(events.count()))"
   ]
  },
  {
   "cell_type": "code",
   "execution_count": 5,
   "metadata": {},
   "outputs": [
    {
     "name": "stdout",
     "output_type": "stream",
     "text": [
      "-RECORD 0---------------------------------------------------------------------------------\n",
      " artist        | Martha Tilston                                                           \n",
      " auth          | Logged In                                                                \n",
      " firstName     | Colin                                                                    \n",
      " gender        | M                                                                        \n",
      " itemInSession | 50                                                                       \n",
      " lastName      | Freeman                                                                  \n",
      " length        | 277.89016                                                                \n",
      " level         | paid                                                                     \n",
      " location      | Bakersfield, CA                                                          \n",
      " method        | PUT                                                                      \n",
      " page          | NextSong                                                                 \n",
      " registration  | 1538173362000                                                            \n",
      " sessionId     | 29                                                                       \n",
      " song          | Rockpools                                                                \n",
      " status        | 200                                                                      \n",
      " ts            | 1538352117000                                                            \n",
      " userAgent     | Mozilla/5.0 (Windows NT 6.1; WOW64; rv:31.0) Gecko/20100101 Firefox/31.0 \n",
      " userId        | 30                                                                       \n",
      "only showing top 1 row\n",
      "\n"
     ]
    }
   ],
   "source": [
    "# check a record\n",
    "events.show(1, truncate=False, vertical=True)"
   ]
  },
  {
   "cell_type": "code",
   "execution_count": 47,
   "metadata": {},
   "outputs": [
    {
     "name": "stdout",
     "output_type": "stream",
     "text": [
      "+--------+--------+\n",
      "|     min|     max|\n",
      "+--------+--------+\n",
      "|20181001|20181203|\n",
      "+--------+--------+\n",
      "\n"
     ]
    }
   ],
   "source": [
    "# check the max date and end date\n",
    "(events\n",
    ".withColumn(\"timestamp\", f.from_unixtime(f.col('ts')/1000).cast('timestamp'))\n",
    ".select(f.min(f.date_format(\"timestamp\", \"yyyyMMdd\")).alias(\"min\"), \n",
    "        f.max(f.date_format(\"timestamp\", \"yyyyMMdd\")).alias(\"max\"))\n",
    ".show())"
   ]
  },
  {
   "cell_type": "code",
   "execution_count": 48,
   "metadata": {},
   "outputs": [
    {
     "name": "stdout",
     "output_type": "stream",
     "text": [
      "root\n",
      " |-- artist: string (nullable = true)\n",
      " |-- auth: string (nullable = true)\n",
      " |-- firstName: string (nullable = true)\n",
      " |-- gender: string (nullable = true)\n",
      " |-- itemInSession: long (nullable = true)\n",
      " |-- lastName: string (nullable = true)\n",
      " |-- length: double (nullable = true)\n",
      " |-- level: string (nullable = true)\n",
      " |-- location: string (nullable = true)\n",
      " |-- method: string (nullable = true)\n",
      " |-- page: string (nullable = true)\n",
      " |-- registration: long (nullable = true)\n",
      " |-- sessionId: long (nullable = true)\n",
      " |-- song: string (nullable = true)\n",
      " |-- status: long (nullable = true)\n",
      " |-- ts: long (nullable = true)\n",
      " |-- userAgent: string (nullable = true)\n",
      " |-- userId: string (nullable = true)\n",
      "\n"
     ]
    }
   ],
   "source": [
    "events.printSchema()"
   ]
  },
  {
   "cell_type": "code",
   "execution_count": 49,
   "metadata": {},
   "outputs": [],
   "source": [
    "def get_col_data_type(col_name, df):\n",
    "    \"\"\"\n",
    "    Returns the simple DatatType representation of the given column (string, long, etc...)\n",
    "    :param col_name, name of the column to get the type.\n",
    "    :param df, DataFrame\n",
    "    :return String simple representation of the type.\n",
    "    \"\"\"\n",
    "    col_name = col_name.lower()\n",
    "    for schema_field in events.schema:\n",
    "        if col_name == schema_field.name.lower():\n",
    "            return schema_field.dataType.simpleString()\n",
    "    return None\n",
    "\n",
    "def check_column_stats(col_name, df, show_uniques=False):\n",
    "    \"\"\"\n",
    "    Helper function to print out column statistics and the distribution of events \n",
    "    per page showing the missing values.\n",
    "    :param col_name, name of the column to print the statistics.\n",
    "    :param df, DataFrame\n",
    "    \"\"\"\n",
    "    col_type = get_col_data_type(col_name, df)\n",
    "    total_events = df.count()\n",
    "    summary = df.select(col_name).describe().collect()\n",
    "    distinct_values = df.select(col_name).distinct().count()\n",
    "    column_events = int(summary[0][1])\n",
    "    missing_values = total_events - column_events\n",
    "    \n",
    "    report_final = \"\"\"\n",
    "    *************************************\n",
    "    * {} ({})\n",
    "    *************************************\n",
    "    * - Total events     : {}\n",
    "    * - Column events    : {} ({}%)\n",
    "    * - Missing values   : {} ({}%)\n",
    "    * - Distinct values  : {} ({}%)\n",
    "    * - Mean             : {}\n",
    "    * - Stdev            : {}\n",
    "    * - Min              : {}\n",
    "    * - Max              : {}\n",
    "    *************************************\n",
    "    \"\"\".format(col_name, \n",
    "               col_type,\n",
    "               total_events, \n",
    "               column_events, \n",
    "               int(100 * column_events/total_events), \n",
    "               missing_values,\n",
    "               int(100 * missing_values/total_events),\n",
    "               distinct_values,\n",
    "               int(100 * distinct_values/total_events),\n",
    "               summary[1][1], \n",
    "               summary[2][1], \n",
    "               summary[3][1], \n",
    "               summary[4][1])\n",
    "    # print report\n",
    "    print(report_final)\n",
    "    \n",
    "    # Show distinct values\n",
    "    if show_uniques == True:\n",
    "        (df\n",
    "        .select(col_name)\n",
    "        .distinct()\n",
    "        .show(100, truncate=False))\n",
    "\n",
    "    # show the distribution of missing values per page\n",
    "    (df\n",
    "     .select(\n",
    "        \"page\",\n",
    "        f.when(((f.col(col_name).isNull()) | (f.trim(f.col(col_name).cast(\"string\")) == \"\")), f.lit(1))\n",
    "         .otherwise(f.lit(0)).alias(\"missing\"),\n",
    "        f.when(((f.col(col_name).isNotNull()) & (f.trim(f.col(col_name).cast(\"string\")) != \"\")), f.lit(1))\n",
    "         .otherwise(f.lit(0)).alias(\"ok\"))\n",
    "     .groupBy(\"page\")\n",
    "     .agg(f.sum(\"missing\").alias(\"missing\"), \n",
    "          f.sum(\"ok\").alias(\"ok\"), \n",
    "          f.sum(f.lit(1)).alias(\"total\"))\n",
    "     .orderBy(\"page\")\n",
    "     .show(100, truncate=False))"
   ]
  },
  {
   "cell_type": "markdown",
   "metadata": {},
   "source": [
    "### Song Playing\n",
    "\n",
    "From the bellow report we can see that a significant song playing related information is only present in one Page (NextSong) and the other pages don't have that information at all! **No need to remove anything related with these column at this stage.**"
   ]
  },
  {
   "cell_type": "code",
   "execution_count": 50,
   "metadata": {},
   "outputs": [
    {
     "name": "stdout",
     "output_type": "stream",
     "text": [
      "\n",
      "    *************************************\n",
      "    * artist (string)\n",
      "    *************************************\n",
      "    * - Total events     : 286500\n",
      "    * - Column events    : 228108 (79%)\n",
      "    * - Missing values   : 58392 (20%)\n",
      "    * - Distinct values  : 17656 (6%)\n",
      "    * - Mean             : 551.0852017937219\n",
      "    * - Stdev            : 1217.7693079161374\n",
      "    * - Min              : !!!\n",
      "    * - Max              : ÃÂlafur Arnalds\n",
      "    *************************************\n",
      "    \n",
      "+-------------------------+-------+------+------+\n",
      "|page                     |missing|ok    |total |\n",
      "+-------------------------+-------+------+------+\n",
      "|About                    |924    |0     |924   |\n",
      "|Add Friend               |4277   |0     |4277  |\n",
      "|Add to Playlist          |6526   |0     |6526  |\n",
      "|Cancel                   |52     |0     |52    |\n",
      "|Cancellation Confirmation|52     |0     |52    |\n",
      "|Downgrade                |2055   |0     |2055  |\n",
      "|Error                    |258    |0     |258   |\n",
      "|Help                     |1726   |0     |1726  |\n",
      "|Home                     |14457  |0     |14457 |\n",
      "|Login                    |3241   |0     |3241  |\n",
      "|Logout                   |3226   |0     |3226  |\n",
      "|NextSong                 |0      |228108|228108|\n",
      "|Register                 |18     |0     |18    |\n",
      "|Roll Advert              |3933   |0     |3933  |\n",
      "|Save Settings            |310    |0     |310   |\n",
      "|Settings                 |1514   |0     |1514  |\n",
      "|Submit Downgrade         |63     |0     |63    |\n",
      "|Submit Registration      |5      |0     |5     |\n",
      "|Submit Upgrade           |159    |0     |159   |\n",
      "|Thumbs Down              |2546   |0     |2546  |\n",
      "|Thumbs Up                |12551  |0     |12551 |\n",
      "|Upgrade                  |499    |0     |499   |\n",
      "+-------------------------+-------+------+------+\n",
      "\n",
      "\n",
      "    *************************************\n",
      "    * song (string)\n",
      "    *************************************\n",
      "    * - Total events     : 286500\n",
      "    * - Column events    : 228108 (79%)\n",
      "    * - Missing values   : 58392 (20%)\n",
      "    * - Distinct values  : 58481 (20%)\n",
      "    * - Mean             : Infinity\n",
      "    * - Stdev            : NaN\n",
      "    * - Min              : \u001c",
      "ÃÂg ÃÂtti GrÃÂ¡a ÃÂsku\n",
      "    * - Max              : ÃÂau hafa sloppiÃÂ° undan ÃÂ¾unga myrkursins\n",
      "    *************************************\n",
      "    \n",
      "+-------------------------+-------+------+------+\n",
      "|page                     |missing|ok    |total |\n",
      "+-------------------------+-------+------+------+\n",
      "|About                    |924    |0     |924   |\n",
      "|Add Friend               |4277   |0     |4277  |\n",
      "|Add to Playlist          |6526   |0     |6526  |\n",
      "|Cancel                   |52     |0     |52    |\n",
      "|Cancellation Confirmation|52     |0     |52    |\n",
      "|Downgrade                |2055   |0     |2055  |\n",
      "|Error                    |258    |0     |258   |\n",
      "|Help                     |1726   |0     |1726  |\n",
      "|Home                     |14457  |0     |14457 |\n",
      "|Login                    |3241   |0     |3241  |\n",
      "|Logout                   |3226   |0     |3226  |\n",
      "|NextSong                 |0      |228108|228108|\n",
      "|Register                 |18     |0     |18    |\n",
      "|Roll Advert              |3933   |0     |3933  |\n",
      "|Save Settings            |310    |0     |310   |\n",
      "|Settings                 |1514   |0     |1514  |\n",
      "|Submit Downgrade         |63     |0     |63    |\n",
      "|Submit Registration      |5      |0     |5     |\n",
      "|Submit Upgrade           |159    |0     |159   |\n",
      "|Thumbs Down              |2546   |0     |2546  |\n",
      "|Thumbs Up                |12551  |0     |12551 |\n",
      "|Upgrade                  |499    |0     |499   |\n",
      "+-------------------------+-------+------+------+\n",
      "\n",
      "\n",
      "    *************************************\n",
      "    * length (double)\n",
      "    *************************************\n",
      "    * - Total events     : 286500\n",
      "    * - Column events    : 228108 (79%)\n",
      "    * - Missing values   : 58392 (20%)\n",
      "    * - Distinct values  : 14866 (5%)\n",
      "    * - Mean             : 249.1171819778458\n",
      "    * - Stdev            : 99.23517921058361\n",
      "    * - Min              : 0.78322\n",
      "    * - Max              : 3024.66567\n",
      "    *************************************\n",
      "    \n",
      "+-------------------------+-------+------+------+\n",
      "|page                     |missing|ok    |total |\n",
      "+-------------------------+-------+------+------+\n",
      "|About                    |924    |0     |924   |\n",
      "|Add Friend               |4277   |0     |4277  |\n",
      "|Add to Playlist          |6526   |0     |6526  |\n",
      "|Cancel                   |52     |0     |52    |\n",
      "|Cancellation Confirmation|52     |0     |52    |\n",
      "|Downgrade                |2055   |0     |2055  |\n",
      "|Error                    |258    |0     |258   |\n",
      "|Help                     |1726   |0     |1726  |\n",
      "|Home                     |14457  |0     |14457 |\n",
      "|Login                    |3241   |0     |3241  |\n",
      "|Logout                   |3226   |0     |3226  |\n",
      "|NextSong                 |0      |228108|228108|\n",
      "|Register                 |18     |0     |18    |\n",
      "|Roll Advert              |3933   |0     |3933  |\n",
      "|Save Settings            |310    |0     |310   |\n",
      "|Settings                 |1514   |0     |1514  |\n",
      "|Submit Downgrade         |63     |0     |63    |\n",
      "|Submit Registration      |5      |0     |5     |\n",
      "|Submit Upgrade           |159    |0     |159   |\n",
      "|Thumbs Down              |2546   |0     |2546  |\n",
      "|Thumbs Up                |12551  |0     |12551 |\n",
      "|Upgrade                  |499    |0     |499   |\n",
      "+-------------------------+-------+------+------+\n",
      "\n"
     ]
    }
   ],
   "source": [
    "check_column_stats(\"artist\", events)\n",
    "check_column_stats(\"song\", events)\n",
    "check_column_stats(\"length\", events)"
   ]
  },
  {
   "cell_type": "markdown",
   "metadata": {},
   "source": [
    "### Auth\n",
    "Represents the state of the user authentication when the request was done! We see there are no missing values."
   ]
  },
  {
   "cell_type": "code",
   "execution_count": 51,
   "metadata": {},
   "outputs": [
    {
     "name": "stdout",
     "output_type": "stream",
     "text": [
      "\n",
      "    *************************************\n",
      "    * auth (string)\n",
      "    *************************************\n",
      "    * - Total events     : 286500\n",
      "    * - Column events    : 286500 (100%)\n",
      "    * - Missing values   : 0 (0%)\n",
      "    * - Distinct values  : 4 (0%)\n",
      "    * - Mean             : None\n",
      "    * - Stdev            : None\n",
      "    * - Min              : Cancelled\n",
      "    * - Max              : Logged Out\n",
      "    *************************************\n",
      "    \n",
      "+----------+\n",
      "|auth      |\n",
      "+----------+\n",
      "|Logged Out|\n",
      "|Cancelled |\n",
      "|Guest     |\n",
      "|Logged In |\n",
      "+----------+\n",
      "\n",
      "+-------------------------+-------+------+------+\n",
      "|page                     |missing|ok    |total |\n",
      "+-------------------------+-------+------+------+\n",
      "|About                    |0      |924   |924   |\n",
      "|Add Friend               |0      |4277  |4277  |\n",
      "|Add to Playlist          |0      |6526  |6526  |\n",
      "|Cancel                   |0      |52    |52    |\n",
      "|Cancellation Confirmation|0      |52    |52    |\n",
      "|Downgrade                |0      |2055  |2055  |\n",
      "|Error                    |0      |258   |258   |\n",
      "|Help                     |0      |1726  |1726  |\n",
      "|Home                     |0      |14457 |14457 |\n",
      "|Login                    |0      |3241  |3241  |\n",
      "|Logout                   |0      |3226  |3226  |\n",
      "|NextSong                 |0      |228108|228108|\n",
      "|Register                 |0      |18    |18    |\n",
      "|Roll Advert              |0      |3933  |3933  |\n",
      "|Save Settings            |0      |310   |310   |\n",
      "|Settings                 |0      |1514  |1514  |\n",
      "|Submit Downgrade         |0      |63    |63    |\n",
      "|Submit Registration      |0      |5     |5     |\n",
      "|Submit Upgrade           |0      |159   |159   |\n",
      "|Thumbs Down              |0      |2546  |2546  |\n",
      "|Thumbs Up                |0      |12551 |12551 |\n",
      "|Upgrade                  |0      |499   |499   |\n",
      "+-------------------------+-------+------+------+\n",
      "\n"
     ]
    }
   ],
   "source": [
    "check_column_stats(\"auth\", events, True)"
   ]
  },
  {
   "cell_type": "markdown",
   "metadata": {},
   "source": [
    "### User information\n",
    "\n",
    "We can see that user info like first, last name, location, gender are only missing from pages that non-loggedin users can visist like (Help, Home, Login, etc..)"
   ]
  },
  {
   "cell_type": "code",
   "execution_count": 52,
   "metadata": {},
   "outputs": [
    {
     "name": "stdout",
     "output_type": "stream",
     "text": [
      "\n",
      "    *************************************\n",
      "    * firstName (string)\n",
      "    *************************************\n",
      "    * - Total events     : 286500\n",
      "    * - Column events    : 278154 (97%)\n",
      "    * - Missing values   : 8346 (2%)\n",
      "    * - Distinct values  : 190 (0%)\n",
      "    * - Mean             : None\n",
      "    * - Stdev            : None\n",
      "    * - Min              : Adelaida\n",
      "    * - Max              : Zyonna\n",
      "    *************************************\n",
      "    \n",
      "+-------------------------+-------+------+------+\n",
      "|page                     |missing|ok    |total |\n",
      "+-------------------------+-------+------+------+\n",
      "|About                    |429    |495   |924   |\n",
      "|Add Friend               |0      |4277  |4277  |\n",
      "|Add to Playlist          |0      |6526  |6526  |\n",
      "|Cancel                   |0      |52    |52    |\n",
      "|Cancellation Confirmation|0      |52    |52    |\n",
      "|Downgrade                |0      |2055  |2055  |\n",
      "|Error                    |6      |252   |258   |\n",
      "|Help                     |272    |1454  |1726  |\n",
      "|Home                     |4375   |10082 |14457 |\n",
      "|Login                    |3241   |0     |3241  |\n",
      "|Logout                   |0      |3226  |3226  |\n",
      "|NextSong                 |0      |228108|228108|\n",
      "|Register                 |18     |0     |18    |\n",
      "|Roll Advert              |0      |3933  |3933  |\n",
      "|Save Settings            |0      |310   |310   |\n",
      "|Settings                 |0      |1514  |1514  |\n",
      "|Submit Downgrade         |0      |63    |63    |\n",
      "|Submit Registration      |5      |0     |5     |\n",
      "|Submit Upgrade           |0      |159   |159   |\n",
      "|Thumbs Down              |0      |2546  |2546  |\n",
      "|Thumbs Up                |0      |12551 |12551 |\n",
      "|Upgrade                  |0      |499   |499   |\n",
      "+-------------------------+-------+------+------+\n",
      "\n",
      "\n",
      "    *************************************\n",
      "    * lastName (string)\n",
      "    *************************************\n",
      "    * - Total events     : 286500\n",
      "    * - Column events    : 278154 (97%)\n",
      "    * - Missing values   : 8346 (2%)\n",
      "    * - Distinct values  : 174 (0%)\n",
      "    * - Mean             : None\n",
      "    * - Stdev            : None\n",
      "    * - Min              : Adams\n",
      "    * - Max              : Wright\n",
      "    *************************************\n",
      "    \n",
      "+-------------------------+-------+------+------+\n",
      "|page                     |missing|ok    |total |\n",
      "+-------------------------+-------+------+------+\n",
      "|About                    |429    |495   |924   |\n",
      "|Add Friend               |0      |4277  |4277  |\n",
      "|Add to Playlist          |0      |6526  |6526  |\n",
      "|Cancel                   |0      |52    |52    |\n",
      "|Cancellation Confirmation|0      |52    |52    |\n",
      "|Downgrade                |0      |2055  |2055  |\n",
      "|Error                    |6      |252   |258   |\n",
      "|Help                     |272    |1454  |1726  |\n",
      "|Home                     |4375   |10082 |14457 |\n",
      "|Login                    |3241   |0     |3241  |\n",
      "|Logout                   |0      |3226  |3226  |\n",
      "|NextSong                 |0      |228108|228108|\n",
      "|Register                 |18     |0     |18    |\n",
      "|Roll Advert              |0      |3933  |3933  |\n",
      "|Save Settings            |0      |310   |310   |\n",
      "|Settings                 |0      |1514  |1514  |\n",
      "|Submit Downgrade         |0      |63    |63    |\n",
      "|Submit Registration      |5      |0     |5     |\n",
      "|Submit Upgrade           |0      |159   |159   |\n",
      "|Thumbs Down              |0      |2546  |2546  |\n",
      "|Thumbs Up                |0      |12551 |12551 |\n",
      "|Upgrade                  |0      |499   |499   |\n",
      "+-------------------------+-------+------+------+\n",
      "\n",
      "\n",
      "    *************************************\n",
      "    * gender (string)\n",
      "    *************************************\n",
      "    * - Total events     : 286500\n",
      "    * - Column events    : 278154 (97%)\n",
      "    * - Missing values   : 8346 (2%)\n",
      "    * - Distinct values  : 3 (0%)\n",
      "    * - Mean             : None\n",
      "    * - Stdev            : None\n",
      "    * - Min              : F\n",
      "    * - Max              : M\n",
      "    *************************************\n",
      "    \n",
      "+-------------------------+-------+------+------+\n",
      "|page                     |missing|ok    |total |\n",
      "+-------------------------+-------+------+------+\n",
      "|About                    |429    |495   |924   |\n",
      "|Add Friend               |0      |4277  |4277  |\n",
      "|Add to Playlist          |0      |6526  |6526  |\n",
      "|Cancel                   |0      |52    |52    |\n",
      "|Cancellation Confirmation|0      |52    |52    |\n",
      "|Downgrade                |0      |2055  |2055  |\n",
      "|Error                    |6      |252   |258   |\n",
      "|Help                     |272    |1454  |1726  |\n",
      "|Home                     |4375   |10082 |14457 |\n",
      "|Login                    |3241   |0     |3241  |\n",
      "|Logout                   |0      |3226  |3226  |\n",
      "|NextSong                 |0      |228108|228108|\n",
      "|Register                 |18     |0     |18    |\n",
      "|Roll Advert              |0      |3933  |3933  |\n",
      "|Save Settings            |0      |310   |310   |\n",
      "|Settings                 |0      |1514  |1514  |\n",
      "|Submit Downgrade         |0      |63    |63    |\n",
      "|Submit Registration      |5      |0     |5     |\n",
      "|Submit Upgrade           |0      |159   |159   |\n",
      "|Thumbs Down              |0      |2546  |2546  |\n",
      "|Thumbs Up                |0      |12551 |12551 |\n",
      "|Upgrade                  |0      |499   |499   |\n",
      "+-------------------------+-------+------+------+\n",
      "\n",
      "\n",
      "    *************************************\n",
      "    * lastName (string)\n",
      "    *************************************\n",
      "    * - Total events     : 286500\n",
      "    * - Column events    : 278154 (97%)\n",
      "    * - Missing values   : 8346 (2%)\n",
      "    * - Distinct values  : 174 (0%)\n",
      "    * - Mean             : None\n",
      "    * - Stdev            : None\n",
      "    * - Min              : Adams\n",
      "    * - Max              : Wright\n",
      "    *************************************\n",
      "    \n",
      "+-------------------------+-------+------+------+\n",
      "|page                     |missing|ok    |total |\n",
      "+-------------------------+-------+------+------+\n",
      "|About                    |429    |495   |924   |\n",
      "|Add Friend               |0      |4277  |4277  |\n",
      "|Add to Playlist          |0      |6526  |6526  |\n",
      "|Cancel                   |0      |52    |52    |\n",
      "|Cancellation Confirmation|0      |52    |52    |\n",
      "|Downgrade                |0      |2055  |2055  |\n",
      "|Error                    |6      |252   |258   |\n",
      "|Help                     |272    |1454  |1726  |\n",
      "|Home                     |4375   |10082 |14457 |\n",
      "|Login                    |3241   |0     |3241  |\n",
      "|Logout                   |0      |3226  |3226  |\n",
      "|NextSong                 |0      |228108|228108|\n",
      "|Register                 |18     |0     |18    |\n",
      "|Roll Advert              |0      |3933  |3933  |\n",
      "|Save Settings            |0      |310   |310   |\n",
      "|Settings                 |0      |1514  |1514  |\n",
      "|Submit Downgrade         |0      |63    |63    |\n",
      "|Submit Registration      |5      |0     |5     |\n",
      "|Submit Upgrade           |0      |159   |159   |\n",
      "|Thumbs Down              |0      |2546  |2546  |\n",
      "|Thumbs Up                |0      |12551 |12551 |\n",
      "|Upgrade                  |0      |499   |499   |\n",
      "+-------------------------+-------+------+------+\n",
      "\n"
     ]
    }
   ],
   "source": [
    "check_column_stats(\"firstName\", events)\n",
    "check_column_stats(\"lastName\", events)\n",
    "check_column_stats(\"gender\", events)\n",
    "check_column_stats(\"lastName\", events)"
   ]
  },
  {
   "cell_type": "code",
   "execution_count": 53,
   "metadata": {},
   "outputs": [
    {
     "name": "stdout",
     "output_type": "stream",
     "text": [
      "\n",
      "    *************************************\n",
      "    * sessionId (bigint)\n",
      "    *************************************\n",
      "    * - Total events     : 286500\n",
      "    * - Column events    : 286500 (100%)\n",
      "    * - Missing values   : 0 (0%)\n",
      "    * - Distinct values  : 2354 (0%)\n",
      "    * - Mean             : 1041.526554973822\n",
      "    * - Stdev            : 726.7762634630741\n",
      "    * - Min              : 1\n",
      "    * - Max              : 2474\n",
      "    *************************************\n",
      "    \n",
      "+-------------------------+-------+------+------+\n",
      "|page                     |missing|ok    |total |\n",
      "+-------------------------+-------+------+------+\n",
      "|About                    |0      |924   |924   |\n",
      "|Add Friend               |0      |4277  |4277  |\n",
      "|Add to Playlist          |0      |6526  |6526  |\n",
      "|Cancel                   |0      |52    |52    |\n",
      "|Cancellation Confirmation|0      |52    |52    |\n",
      "|Downgrade                |0      |2055  |2055  |\n",
      "|Error                    |0      |258   |258   |\n",
      "|Help                     |0      |1726  |1726  |\n",
      "|Home                     |0      |14457 |14457 |\n",
      "|Login                    |0      |3241  |3241  |\n",
      "|Logout                   |0      |3226  |3226  |\n",
      "|NextSong                 |0      |228108|228108|\n",
      "|Register                 |0      |18    |18    |\n",
      "|Roll Advert              |0      |3933  |3933  |\n",
      "|Save Settings            |0      |310   |310   |\n",
      "|Settings                 |0      |1514  |1514  |\n",
      "|Submit Downgrade         |0      |63    |63    |\n",
      "|Submit Registration      |0      |5     |5     |\n",
      "|Submit Upgrade           |0      |159   |159   |\n",
      "|Thumbs Down              |0      |2546  |2546  |\n",
      "|Thumbs Up                |0      |12551 |12551 |\n",
      "|Upgrade                  |0      |499   |499   |\n",
      "+-------------------------+-------+------+------+\n",
      "\n",
      "\n",
      "    *************************************\n",
      "    * userId (string)\n",
      "    *************************************\n",
      "    * - Total events     : 286500\n",
      "    * - Column events    : 286500 (100%)\n",
      "    * - Missing values   : 0 (0%)\n",
      "    * - Distinct values  : 226 (0%)\n",
      "    * - Mean             : 59682.02278593872\n",
      "    * - Stdev            : 109091.9499991047\n",
      "    * - Min              : \n",
      "    * - Max              : 99\n",
      "    *************************************\n",
      "    \n",
      "+-------------------------+-------+------+------+\n",
      "|page                     |missing|ok    |total |\n",
      "+-------------------------+-------+------+------+\n",
      "|About                    |429    |495   |924   |\n",
      "|Add Friend               |0      |4277  |4277  |\n",
      "|Add to Playlist          |0      |6526  |6526  |\n",
      "|Cancel                   |0      |52    |52    |\n",
      "|Cancellation Confirmation|0      |52    |52    |\n",
      "|Downgrade                |0      |2055  |2055  |\n",
      "|Error                    |6      |252   |258   |\n",
      "|Help                     |272    |1454  |1726  |\n",
      "|Home                     |4375   |10082 |14457 |\n",
      "|Login                    |3241   |0     |3241  |\n",
      "|Logout                   |0      |3226  |3226  |\n",
      "|NextSong                 |0      |228108|228108|\n",
      "|Register                 |18     |0     |18    |\n",
      "|Roll Advert              |0      |3933  |3933  |\n",
      "|Save Settings            |0      |310   |310   |\n",
      "|Settings                 |0      |1514  |1514  |\n",
      "|Submit Downgrade         |0      |63    |63    |\n",
      "|Submit Registration      |5      |0     |5     |\n",
      "|Submit Upgrade           |0      |159   |159   |\n",
      "|Thumbs Down              |0      |2546  |2546  |\n",
      "|Thumbs Up                |0      |12551 |12551 |\n",
      "|Upgrade                  |0      |499   |499   |\n",
      "+-------------------------+-------+------+------+\n",
      "\n",
      "\n",
      "    *************************************\n",
      "    * ts (bigint)\n",
      "    *************************************\n",
      "    * - Total events     : 286500\n",
      "    * - Column events    : 286500 (100%)\n",
      "    * - Missing values   : 0 (0%)\n",
      "    * - Distinct values  : 277447 (96%)\n",
      "    * - Mean             : 1.5409568898104834E12\n",
      "    * - Stdev            : 1.5075439608226302E9\n",
      "    * - Min              : 1538352117000\n",
      "    * - Max              : 1543799476000\n",
      "    *************************************\n",
      "    \n",
      "+-------------------------+-------+------+------+\n",
      "|page                     |missing|ok    |total |\n",
      "+-------------------------+-------+------+------+\n",
      "|About                    |0      |924   |924   |\n",
      "|Add Friend               |0      |4277  |4277  |\n",
      "|Add to Playlist          |0      |6526  |6526  |\n",
      "|Cancel                   |0      |52    |52    |\n",
      "|Cancellation Confirmation|0      |52    |52    |\n",
      "|Downgrade                |0      |2055  |2055  |\n",
      "|Error                    |0      |258   |258   |\n",
      "|Help                     |0      |1726  |1726  |\n",
      "|Home                     |0      |14457 |14457 |\n",
      "|Login                    |0      |3241  |3241  |\n",
      "|Logout                   |0      |3226  |3226  |\n",
      "|NextSong                 |0      |228108|228108|\n",
      "|Register                 |0      |18    |18    |\n",
      "|Roll Advert              |0      |3933  |3933  |\n",
      "|Save Settings            |0      |310   |310   |\n",
      "|Settings                 |0      |1514  |1514  |\n",
      "|Submit Downgrade         |0      |63    |63    |\n",
      "|Submit Registration      |0      |5     |5     |\n",
      "|Submit Upgrade           |0      |159   |159   |\n",
      "|Thumbs Down              |0      |2546  |2546  |\n",
      "|Thumbs Up                |0      |12551 |12551 |\n",
      "|Upgrade                  |0      |499   |499   |\n",
      "+-------------------------+-------+------+------+\n",
      "\n"
     ]
    }
   ],
   "source": [
    "check_column_stats(\"sessionId\", events)\n",
    "check_column_stats(\"userId\", events)\n",
    "check_column_stats(\"ts\", events)"
   ]
  },
  {
   "cell_type": "markdown",
   "metadata": {},
   "source": [
    "### Considerations on dataset\n",
    "\n",
    "**userId** has some empty values and we can't used these because they may be guest users."
   ]
  },
  {
   "cell_type": "code",
   "execution_count": 54,
   "metadata": {},
   "outputs": [],
   "source": [
    "events_cleaned = (events\n",
    ".filter(f.trim(f.col(\"userId\")) != '') # filter out the unnecessary events\n",
    ".withColumn(\"timestamp\", f.from_unixtime(f.col('ts')/1000).cast('timestamp')) # convert to proper timestamp type\n",
    ".withColumn(\"month\", f.date_format(\"timestamp\", \"yyyyMM\")) # extract month may be necessary\n",
    ".withColumn(\"day\", f.date_format(\"timestamp\", \"yyyyMMdd\")))"
   ]
  },
  {
   "cell_type": "markdown",
   "metadata": {},
   "source": [
    "# Exploratory Data Analysis\n",
    "When you're working with the full dataset, perform EDA by loading a small subset of the data and doing basic manipulations within Spark. In this workspace, you are already provided a small subset of data you can explore."
   ]
  },
  {
   "cell_type": "markdown",
   "metadata": {},
   "source": [
    "### Define Churn\n",
    "\n",
    "Once you've done some preliminary analysis, create a column `Churn` to use as the label for your model. I suggest using the `Cancellation Confirmation` events to define your churn, which happen for both paid and free users. As a bonus task, you can also look into the `Downgrade` events."
   ]
  },
  {
   "cell_type": "code",
   "execution_count": 55,
   "metadata": {},
   "outputs": [],
   "source": [
    "events_prepared = (events_cleaned\n",
    "                   .withColumn('churned', \n",
    "                               f.when(f.col('page') == 'Cancellation Confirmation', 1)\n",
    "                               .otherwise(0)))"
   ]
  },
  {
   "cell_type": "markdown",
   "metadata": {},
   "source": [
    "### Explore Data\n",
    "Once you've defined churn, perform some exploratory data analysis to observe the behavior for users who stayed vs users who churned. You can start by exploring aggregates on these two groups of users, observing how much of a specific action they experienced per a certain time unit or number of songs played."
   ]
  },
  {
   "cell_type": "code",
   "execution_count": 56,
   "metadata": {},
   "outputs": [],
   "source": [
    "# Reference table that contains unique user information\n",
    "unique_user_info=(events_prepared\n",
    "                   .groupBy(\"userId\")\n",
    "                   .agg(f.when(f.sum(\"churned\") > 0, 1).otherwise(0).alias(\"churned\")))"
   ]
  },
  {
   "cell_type": "code",
   "execution_count": 57,
   "metadata": {},
   "outputs": [
    {
     "name": "stdout",
     "output_type": "stream",
     "text": [
      "+-------+-----+\n",
      "|churned|count|\n",
      "+-------+-----+\n",
      "|      1|   52|\n",
      "|      0|  173|\n",
      "+-------+-----+\n",
      "\n"
     ]
    }
   ],
   "source": [
    "churned_counts = unique_user_info.groupBy(\"churned\").count()\n",
    "churned_counts.show()"
   ]
  },
  {
   "cell_type": "code",
   "execution_count": 58,
   "metadata": {},
   "outputs": [
    {
     "data": {
      "text/plain": [
       "<matplotlib.axes._subplots.AxesSubplot at 0x7f4c019b14e0>"
      ]
     },
     "execution_count": 58,
     "metadata": {},
     "output_type": "execute_result"
    },
    {
     "data": {
      "image/png": "[encoded data removed]",
      "text/plain": [
       "<matplotlib.figure.Figure at 0x7f4c019f96a0>"
      ]
     },
     "metadata": {
      "needs_background": "light"
     },
     "output_type": "display_data"
    }
   ],
   "source": [
    "(churned_counts\n",
    " .toPandas()\n",
    " .plot(title=\"Churned vs Non-Churned users\", x=\"churned\", y=[\"count\"], kind=\"bar\", figsize=(10, 7)))"
   ]
  },
  {
   "cell_type": "code",
   "execution_count": 59,
   "metadata": {},
   "outputs": [
    {
     "name": "stdout",
     "output_type": "stream",
     "text": [
      "+-------+------------------+------------------+----------+----------+\n",
      "|churned|        avg(count)|stddev_samp(count)|min(count)|max(count)|\n",
      "+-------+------------------+------------------+----------+----------+\n",
      "|      1|10.326923076923077|  8.61080295917924|         1|        37|\n",
      "|      0|15.254335260115607|15.866963127421307|         1|       107|\n",
      "+-------+------------------+------------------+----------+----------+\n",
      "\n"
     ]
    }
   ],
   "source": [
    "# Check the statistics of the duration of sessions for both groups\n",
    "(events_prepared\n",
    ".select('userId', 'sessionId')\n",
    ".distinct()\n",
    ".groupBy('userId')\n",
    ".count()\n",
    ".join(unique_user_info, ['userId'])\n",
    ".groupBy('churned')\n",
    ".agg(f.avg('count'), \n",
    "     f.stddev('count'), \n",
    "     f.min('count'), \n",
    "     f.max('count'))\n",
    ").show()\n",
    "\n",
    "# It seems that people that have churned do less sessions"
   ]
  },
  {
   "cell_type": "code",
   "execution_count": 60,
   "metadata": {},
   "outputs": [
    {
     "name": "stdout",
     "output_type": "stream",
     "text": [
      "+-------+--------------------+----------------------------+--------------------+--------------------+\n",
      "|churned|avg(duration_in_sec)|stddev_samp(duration_in_sec)|min(duration_in_sec)|max(duration_in_sec)|\n",
      "+-------+--------------------+----------------------------+--------------------+--------------------+\n",
      "|      1|  16987.292364990688|          22519.155097809817|                   0|              198001|\n",
      "|      0|   18171.32171276999|           23594.50469043073|                   0|              267305|\n",
      "+-------+--------------------+----------------------------+--------------------+--------------------+\n",
      "\n"
     ]
    }
   ],
   "source": [
    "# Check the statistics of the duration of sessions for both groups\n",
    "(events_prepared\n",
    ".select('userId', \n",
    "        'sessionId', \n",
    "        'timestamp')\n",
    ".groupBy(f.col('userId'), f.col('sessionId'))\n",
    ".agg(f.min('timestamp').alias('start_of_session'), \n",
    "     f.max('timestamp').alias('end_of_session'))\n",
    ".select('userId', \n",
    "        'sessionId',\n",
    "        'start_of_session', \n",
    "        'end_of_session', \n",
    "        (f.col('end_of_session').cast(\"long\") - f.col('start_of_session').cast(\"long\")).alias('duration_in_sec'))\n",
    ".join(unique_user_info, ['userId'])\n",
    ".groupBy('churned')\n",
    ".agg(f.avg('duration_in_sec'), \n",
    "     f.stddev('duration_in_sec'), \n",
    "     f.min('duration_in_sec'), \n",
    "     f.max('duration_in_sec'))\n",
    ").show()\n",
    "\n",
    "# The average churned users use the app for less time"
   ]
  },
  {
   "cell_type": "code",
   "execution_count": 61,
   "metadata": {},
   "outputs": [
    {
     "name": "stdout",
     "output_type": "stream",
     "text": [
      "+-------+--------------------+----------------------------+\n",
      "|churned|avg(days_since_last)|stddev_samp(days_since_last)|\n",
      "+-------+--------------------+----------------------------+\n",
      "|      1|   2.260707635009311|           2.979876829036547|\n",
      "|      0|   3.063281546040167|          4.3541320027388855|\n",
      "+-------+--------------------+----------------------------+\n",
      "\n"
     ]
    }
   ],
   "source": [
    "# Check the avg number of days between sessions\n",
    "(events_prepared\n",
    ".select('userId', \n",
    "        'sessionId', \n",
    "        'timestamp')\n",
    ".withColumn('rn', f.row_number().over(Window.partitionBy('userId', 'sessionId').orderBy('timestamp')))\n",
    ".filter(f.col('rn') == 1)\n",
    ".drop('rn')\n",
    ".withColumn('prev_session_ts', \n",
    "            f.lag(f.col('timestamp')).over(Window.partitionBy('userId').orderBy('timestamp')))\n",
    ".withColumn('days_since_last', \n",
    "            f.when(f.col('prev_session_ts').isNull(), 0)\n",
    "            .otherwise(f.datediff(f.col('timestamp'), f.col('prev_session_ts'))))\n",
    ".join(unique_user_info, ['userId'])\n",
    ".groupBy('churned')\n",
    ".agg(f.avg('days_since_last'), \n",
    "     f.stddev('days_since_last'))\n",
    ").show()\n",
    "\n",
    "# The average days between sessions does not look very different between both groups."
   ]
  },
  {
   "cell_type": "code",
   "execution_count": 62,
   "metadata": {},
   "outputs": [
    {
     "name": "stdout",
     "output_type": "stream",
     "text": [
      "+--------------------+----------------------------+\n",
      "|avg(days_since_last)|stddev_samp(days_since_last)|\n",
      "+--------------------+----------------------------+\n",
      "|   5.795555555555556|           7.905297600895882|\n",
      "+--------------------+----------------------------+\n",
      "\n"
     ]
    }
   ],
   "source": [
    "# Check the avg number of days since the last session for churned clients. \n",
    "# To understand if clients that don't use the app for a long time may be more likely to churn\n",
    "(events_prepared\n",
    ".join(unique_user_info.filter(f.col(\"userId\") > 0), ['userId'])\n",
    ".select('userId', \n",
    "        'sessionId', \n",
    "        'timestamp')\n",
    ".withColumn('rn', f.row_number().over(Window.partitionBy('userId', 'sessionId').orderBy('timestamp')))\n",
    ".filter(f.col('rn') == 1)\n",
    ".drop('rn')\n",
    ".withColumn('prev_session_ts', \n",
    "            f.lag(f.col('timestamp')).over(Window.partitionBy('userId').orderBy('timestamp')))\n",
    ".withColumn('days_since_last', \n",
    "            f.when(f.col('prev_session_ts').isNull(), 0)\n",
    "            .otherwise(f.datediff(f.col('timestamp'), f.col('prev_session_ts'))))\n",
    ".withColumn('rn', f.row_number().over(Window.partitionBy('userId').orderBy(f.col('timestamp').desc())))\n",
    ".filter(f.col('rn') == 1)\n",
    ".drop('rn', 'sessionId')\n",
    ".orderBy('userId')\n",
    ".agg(f.avg('days_since_last'), \n",
    "     f.stddev('days_since_last'))\n",
    ").show()"
   ]
  },
  {
   "cell_type": "code",
   "execution_count": 63,
   "metadata": {},
   "outputs": [
    {
     "name": "stdout",
     "output_type": "stream",
     "text": [
      "+-------+------------------+-------------------+\n",
      "|churned|       avg(errors)|stddev_samp(errors)|\n",
      "+-------+------------------+-------------------+\n",
      "|      1|0.6153846153846154| 0.8437508728558134|\n",
      "|      0|1.2716763005780347| 1.5852356839534172|\n",
      "+-------+------------------+-------------------+\n",
      "\n"
     ]
    }
   ],
   "source": [
    "# Check the number of errors per client \n",
    "# To understand if clients that churned were experencing more errors\n",
    "(events_prepared\n",
    ".select('userId', 'status')\n",
    ".groupBy('userId')\n",
    ".agg(f.sum((f.when(f.col('status') >= 400, 1).otherwise(0))).alias('errors'))\n",
    ".join(unique_user_info, ['userId'])\n",
    ".groupBy('churned')\n",
    ".agg(f.avg('errors'), f.stddev('errors'))\n",
    ").show()"
   ]
  },
  {
   "cell_type": "code",
   "execution_count": 64,
   "metadata": {},
   "outputs": [
    {
     "name": "stdout",
     "output_type": "stream",
     "text": [
      "+-------+-----------------+------------------+\n",
      "|churned|       avg(songs)|stddev_samp(songs)|\n",
      "+-------+-----------------+------------------+\n",
      "|      1|67.77281191806331| 88.16811328211362|\n",
      "|      0|72.64645699128458| 93.67725460573314|\n",
      "+-------+-----------------+------------------+\n",
      "\n"
     ]
    }
   ],
   "source": [
    "# Check the number of songs played per session\n",
    "(events_prepared\n",
    ".groupBy('userId', 'sessionId')\n",
    ".agg(f.sum((f.when(f.col(\"page\") == 'NextSong', 1).otherwise(0))).alias('songs'))\n",
    ".join(unique_user_info, ['userId'])\n",
    ".groupBy('churned')\n",
    ".agg(f.avg('songs'), f.stddev('songs'))).show()"
   ]
  },
  {
   "cell_type": "code",
   "execution_count": 65,
   "metadata": {},
   "outputs": [
    {
     "name": "stdout",
     "output_type": "stream",
     "text": [
      "+-----+-----+\n",
      "|level|count|\n",
      "+-----+-----+\n",
      "| free|   21|\n",
      "| paid|   31|\n",
      "+-----+-----+\n",
      "\n"
     ]
    }
   ],
   "source": [
    "# Check the level of users that churned\n",
    "(events_prepared\n",
    ".filter(f.col(\"churned\") > 0)\n",
    ".select('userId', 'level')\n",
    ".groupBy('level')\n",
    ".count()\n",
    ").show()\n"
   ]
  },
  {
   "cell_type": "code",
   "execution_count": 66,
   "metadata": {},
   "outputs": [
    {
     "name": "stdout",
     "output_type": "stream",
     "text": [
      "+------+-----+\n",
      "|gender|count|\n",
      "+------+-----+\n",
      "|     F|   20|\n",
      "|     M|   32|\n",
      "+------+-----+\n",
      "\n"
     ]
    }
   ],
   "source": [
    "# Check the gender of users that churned\n",
    "(events_prepared\n",
    ".filter(f.col(\"churned\") > 0)\n",
    ".select('userId', 'gender')\n",
    ".groupBy('gender')\n",
    ".count()\n",
    ").show()"
   ]
  },
  {
   "cell_type": "code",
   "execution_count": 67,
   "metadata": {},
   "outputs": [],
   "source": [
    "churned_info_per_day = (events_prepared\n",
    ".join(unique_user_info.filter(f.col(\"churned\") > 0), ['userId'])\n",
    ".groupBy('day')\n",
    ".agg(\n",
    "    f.sum((f.when(f.col(\"page\") == 'NextSong', 1).otherwise(0))).alias('songs'),\n",
    "    f.sum((f.when(f.col('status') >= 400, 1).otherwise(0))).alias('errors'),\n",
    "    f.sum((f.when(f.col(\"page\") == 'Roll Advert', 1).otherwise(0))).alias('adverts'),\n",
    ")\n",
    ".select(\"day\", \n",
    "        \"songs\", \n",
    "        \"errors\", \n",
    "        \"adverts\", \n",
    "        f.round((f.col(\"errors\") / f.col(\"songs\")), 5).alias(\"errors_per_song\"),\n",
    "        f.round((f.col(\"adverts\") / f.col(\"songs\")), 5).alias(\"adverts_per_song\"))\n",
    ")"
   ]
  },
  {
   "cell_type": "code",
   "execution_count": 68,
   "metadata": {},
   "outputs": [
    {
     "name": "stdout",
     "output_type": "stream",
     "text": [
      "+--------+-----+------+-------+---------------+----------------+\n",
      "|     day|songs|errors|adverts|errors_per_song|adverts_per_song|\n",
      "+--------+-----+------+-------+---------------+----------------+\n",
      "|20181001|  870|     1|     53|        0.00115|         0.06092|\n",
      "|20181002| 1431|     1|     76|         7.0E-4|         0.05311|\n",
      "|20181003| 1307|     2|     58|        0.00153|         0.04438|\n",
      "|20181004| 1157|     1|     72|         8.6E-4|         0.06223|\n",
      "|20181005| 1329|     0|     13|            0.0|         0.00978|\n",
      "|20181006|  429|     1|     24|        0.00233|         0.05594|\n",
      "|20181007|  560|     0|     15|            0.0|         0.02679|\n",
      "|20181008| 1410|     3|      7|        0.00213|         0.00496|\n",
      "|20181009| 1661|     1|     38|         6.0E-4|         0.02288|\n",
      "|20181010| 1397|     1|     22|         7.2E-4|         0.01575|\n",
      "|20181011| 2047|     3|     54|        0.00147|         0.02638|\n",
      "|20181012| 1760|     2|     52|        0.00114|         0.02955|\n",
      "|20181013|  981|     0|     16|            0.0|         0.01631|\n",
      "|20181014|  481|     0|     14|            0.0|         0.02911|\n",
      "|20181015| 1444|     0|     22|            0.0|         0.01524|\n",
      "|20181016| 1024|     3|     22|        0.00293|         0.02148|\n",
      "|20181017|  874|     2|     18|        0.00229|         0.02059|\n",
      "|20181018| 1060|     0|     22|            0.0|         0.02075|\n",
      "|20181019| 1205|     0|     48|            0.0|         0.03983|\n",
      "|20181020| 1225|     1|     29|         8.2E-4|         0.02367|\n",
      "+--------+-----+------+-------+---------------+----------------+\n",
      "only showing top 20 rows\n",
      "\n"
     ]
    }
   ],
   "source": [
    "churned_info_per_day.orderBy(\"day\").show()"
   ]
  },
  {
   "cell_type": "code",
   "execution_count": 69,
   "metadata": {},
   "outputs": [
    {
     "data": {
      "text/plain": [
       "<matplotlib.axes._subplots.AxesSubplot at 0x7f4c016dbf60>"
      ]
     },
     "execution_count": 69,
     "metadata": {},
     "output_type": "execute_result"
    },
    {
     "data": {
      "image/png": "[encoded data removed]",
      "text/plain": [
       "<matplotlib.figure.Figure at 0x7f4c016ca7f0>"
      ]
     },
     "metadata": {
      "needs_background": "light"
     },
     "output_type": "display_data"
    }
   ],
   "source": [
    "(churned_info_per_day\n",
    " .toPandas()\n",
    " .plot(title=\"Daily errors & sdverts per song (Churned users)\", \n",
    "       x=\"day\", \n",
    "       y=[\"errors_per_song\", \"adverts_per_song\"], \n",
    "       kind=\"bar\", \n",
    "       figsize=(15, 7)))"
   ]
  },
  {
   "cell_type": "code",
   "execution_count": 70,
   "metadata": {},
   "outputs": [],
   "source": [
    "not_churned_info_per_day = (events_prepared\n",
    ".join(unique_user_info.filter(f.col(\"churned\") == 0), ['userId'])\n",
    ".groupBy('day')\n",
    ".agg(\n",
    "    f.sum((f.when(f.col(\"page\") == 'NextSong', 1).otherwise(0))).alias('songs'),\n",
    "    f.sum((f.when(f.col('status') >= 400, 1).otherwise(0))).alias('errors'),\n",
    "    f.sum((f.when(f.col(\"page\") == 'Roll Advert', 1).otherwise(0))).alias('adverts'),\n",
    ")\n",
    ".select(\"day\", \n",
    "        \"songs\", \n",
    "        \"errors\", \n",
    "        \"adverts\", \n",
    "        f.round((f.col(\"errors\") / f.col(\"songs\")), 5).alias(\"errors_per_song\"),\n",
    "        f.round((f.col(\"adverts\") / f.col(\"songs\")), 5).alias(\"adverts_per_song\"))\n",
    ")"
   ]
  },
  {
   "cell_type": "code",
   "execution_count": 71,
   "metadata": {},
   "outputs": [
    {
     "name": "stdout",
     "output_type": "stream",
     "text": [
      "+--------+-----+------+-------+---------------+----------------+\n",
      "|     day|songs|errors|adverts|errors_per_song|adverts_per_song|\n",
      "+--------+-----+------+-------+---------------+----------------+\n",
      "|20181001| 2488|     2|    106|         8.0E-4|          0.0426|\n",
      "|20181002| 2095|     4|    102|        0.00191|         0.04869|\n",
      "|20181003| 1846|     2|     74|        0.00108|         0.04009|\n",
      "|20181004| 2549|     2|     70|         7.8E-4|         0.02746|\n",
      "|20181005| 2282|     6|     63|        0.00263|         0.02761|\n",
      "|20181006| 2524|     4|     86|        0.00158|         0.03407|\n",
      "|20181007| 1806|     2|     60|        0.00111|         0.03322|\n",
      "|20181008| 2794|     8|     42|        0.00286|         0.01503|\n",
      "|20181009| 2768|     3|     93|        0.00108|          0.0336|\n",
      "|20181010| 3704|     5|     42|        0.00135|         0.01134|\n",
      "|20181011| 2518|     1|     61|         4.0E-4|         0.02423|\n",
      "|20181012| 2618|     3|     34|        0.00115|         0.01299|\n",
      "|20181013| 1442|     2|     38|        0.00139|         0.02635|\n",
      "|20181014| 1649|     3|     11|        0.00182|         0.00667|\n",
      "|20181015| 2754|     4|     73|        0.00145|         0.02651|\n",
      "|20181016| 3690|     5|     81|        0.00136|         0.02195|\n",
      "|20181017| 3383|     5|     60|        0.00148|         0.01774|\n",
      "|20181018| 3326|     2|     74|         6.0E-4|         0.02225|\n",
      "|20181019| 3349|     1|     59|         3.0E-4|         0.01762|\n",
      "|20181020| 3487|     4|     47|        0.00115|         0.01348|\n",
      "+--------+-----+------+-------+---------------+----------------+\n",
      "only showing top 20 rows\n",
      "\n"
     ]
    }
   ],
   "source": [
    "not_churned_info_per_day.orderBy(\"day\").show()"
   ]
  },
  {
   "cell_type": "code",
   "execution_count": 72,
   "metadata": {},
   "outputs": [
    {
     "data": {
      "text/plain": [
       "<matplotlib.axes._subplots.AxesSubplot at 0x7f4c01937cc0>"
      ]
     },
     "execution_count": 72,
     "metadata": {},
     "output_type": "execute_result"
    },
    {
     "data": {
      "image/png": "[encoded data removed]",
      "text/plain": [
       "<matplotlib.figure.Figure at 0x7f4c0166e4a8>"
      ]
     },
     "metadata": {
      "needs_background": "light"
     },
     "output_type": "display_data"
    }
   ],
   "source": [
    "(not_churned_info_per_day\n",
    " .toPandas()\n",
    " .plot(title=\"Daily errors & sdverts per song (Non-Churned users)\", \n",
    "       x=\"day\", \n",
    "       y=[\"errors_per_song\", \"adverts_per_song\"], \n",
    "       kind=\"bar\", \n",
    "       figsize=(15, 7)))"
   ]
  },
  {
   "cell_type": "markdown",
   "metadata": {},
   "source": [
    "# Feature Engineering\n",
    "Once you've familiarized yourself with the data, build out the features you find promising to train your model on. To work with the full dataset, you can follow the following steps.\n",
    "- Write a script to extract the necessary features from the smaller subset of data\n",
    "- Ensure that your script is scalable, using the best practices discussed in Lesson 3\n",
    "- Try your script on the full data set, debugging your script if necessary\n",
    "\n",
    "If you are working in the classroom workspace, you can just extract features based on the small subset of data contained here. Be sure to transfer over this work to the larger dataset when you work on your Spark cluster."
   ]
  },
  {
   "cell_type": "markdown",
   "metadata": {},
   "source": [
    "### Features\n",
    "\n",
    "By the previous analysis I have decided to use the following features:\n",
    "\n",
    "- gender (categorical)\n",
    "- level (categorical)\n",
    "- monthly_avg_num_sessions\n",
    "- monthly_avg_time_usage\n",
    "- monthly_avg_errors\n",
    "- monthly_avg_songs_played\n",
    "- monthly_avg_adverts_rolled\n",
    "- daily_avg_num_sessions\n",
    "- daily_avg_time_usage\n",
    "- daily_avg_erros\n",
    "- daily_avg_songs_played\n",
    "- daily_avg_adverts_rolled\n"
   ]
  },
  {
   "cell_type": "code",
   "execution_count": 73,
   "metadata": {},
   "outputs": [],
   "source": [
    "def create_features_per_time_agg(df, time_agg_col, time_agg_prefix):\n",
    "    \"\"\"\n",
    "    Returns a new DataFrame with all session features calculated per the given time_agg_col.\n",
    "    :param df input dataframe.\n",
    "    :param time_agg_col column with time information that will be used to aggregate the features.\n",
    "    :param time_agg_prefix prefix for output column names.\n",
    "    \"\"\"\n",
    "    prefix=time_agg_prefix \n",
    "    return (df\n",
    "     .select(\"userId\", \"sessionId\", time_agg_col, \"timestamp\", \"status\", \"page\")\n",
    "     .groupBy(\"userId\", \"sessionId\", time_agg_col)\n",
    "     .agg(\n",
    "         (f.max(\"timestamp\").cast(\"long\") - f.min(\"timestamp\").cast(\"long\")).alias(\"session_duration\"),\n",
    "         f.sum((f.when(f.col('status') >= 400, 1).otherwise(0))).alias('session_errors'),\n",
    "         f.sum((f.when(f.col(\"page\") == 'NextSong', 1).otherwise(0))).alias('session_songs'),\n",
    "         f.sum((f.when(f.col(\"page\") == 'Roll Advert', 1).otherwise(0))).alias('session_advert'))                   \n",
    "     .groupBy(\"userId\", time_agg_col)\n",
    "     .agg(\n",
    "         f.count(f.lit(1)).alias(\"{}_num_sessions\".format(prefix)),\n",
    "         f.sum(\"session_duration\").alias(\"{}_time_usage\".format(prefix)),\n",
    "         f.sum(\"session_errors\").alias(\"{}_errors\".format(prefix)),\n",
    "         f.sum(\"session_songs\").alias(\"{}_songs\".format(prefix)),\n",
    "         f.sum(\"session_advert\").alias(\"{}_adverts\".format(prefix))\n",
    "         )\n",
    "      .groupBy(\"userId\")\n",
    "      .agg(\n",
    "         f.avg(\"{}_num_sessions\".format(prefix)).alias(\"{}_avg_num_sessions\".format(prefix)),\n",
    "         f.avg(\"{}_time_usage\".format(prefix)).alias(\"{}_avg_time_usage\".format(prefix)),\n",
    "         f.avg(\"{}_errors\".format(prefix)).alias(\"{}_avg_errors\".format(prefix)),\n",
    "         f.avg(\"{}_songs\".format(prefix)).alias(\"{}_avg_songs_played\".format(prefix)),\n",
    "         f.avg(\"{}_adverts\".format(prefix)).alias(\"{}_avg_adverts_rolled\".format(prefix))) \n",
    "    )\n",
    "\n",
    "def create_features(df):\n",
    "    \"\"\"\n",
    "    Returns a new DataFrame indexed by userId contaning all the user features.\n",
    "    :param df input Spark DataFrame.\n",
    "    \"\"\"\n",
    "    daily_features = create_features_per_time_agg(events_prepared, \"month\", \"monthly\")\n",
    "    monthly_features = create_features_per_time_agg(events_prepared, \"day\", \"daily\")\n",
    "    wnd_spec = (Window.partitionBy(\"userId\")\n",
    "                .orderBy(\"timestamp\")\n",
    "                .rowsBetween(Window.unboundedPreceding, Window.unboundedFollowing))\n",
    "    final = (df\n",
    "             .select(\"userId\",\n",
    "                     f.when(f.upper(f.col('gender')) == \"M\", 1).otherwise(0).alias(\"gender\"),\n",
    "                     f.when(f.last(\"churned\", True).over(wnd_spec) > 0, 1).otherwise(0).alias(\"churned\"),\n",
    "                     f.when(f.last(\"level\", True).over(wnd_spec) == \"paid\", 1).otherwise(0).alias(\"level\"))\n",
    "             .distinct()\n",
    "             .join(daily_features, [\"userId\"])\n",
    "             .join(monthly_features, [\"userId\"]))\n",
    "    return final\n",
    "\n",
    "final_df = create_features(events_prepared).cache()"
   ]
  },
  {
   "cell_type": "code",
   "execution_count": 74,
   "metadata": {},
   "outputs": [
    {
     "name": "stdout",
     "output_type": "stream",
     "text": [
      "+-------+-----+\n",
      "|churned|count|\n",
      "+-------+-----+\n",
      "|      1|   52|\n",
      "|      0|  173|\n",
      "+-------+-----+\n",
      "\n"
     ]
    }
   ],
   "source": [
    "final_df.groupBy(\"churned\").count().show()"
   ]
  },
  {
   "cell_type": "code",
   "execution_count": 75,
   "metadata": {},
   "outputs": [
    {
     "name": "stdout",
     "output_type": "stream",
     "text": [
      "root\n",
      " |-- userId: string (nullable = true)\n",
      " |-- gender: integer (nullable = false)\n",
      " |-- churned: integer (nullable = false)\n",
      " |-- level: integer (nullable = false)\n",
      " |-- monthly_avg_num_sessions: double (nullable = true)\n",
      " |-- monthly_avg_time_usage: double (nullable = true)\n",
      " |-- monthly_avg_errors: double (nullable = true)\n",
      " |-- monthly_avg_songs_played: double (nullable = true)\n",
      " |-- monthly_avg_adverts_rolled: double (nullable = true)\n",
      " |-- daily_avg_num_sessions: double (nullable = true)\n",
      " |-- daily_avg_time_usage: double (nullable = true)\n",
      " |-- daily_avg_errors: double (nullable = true)\n",
      " |-- daily_avg_songs_played: double (nullable = true)\n",
      " |-- daily_avg_adverts_rolled: double (nullable = true)\n",
      "\n"
     ]
    }
   ],
   "source": [
    "final_df.printSchema()"
   ]
  },
  {
   "cell_type": "code",
   "execution_count": 76,
   "metadata": {},
   "outputs": [
    {
     "name": "stderr",
     "output_type": "stream",
     "text": [
      "/opt/conda/lib/python3.6/site-packages/IPython/core/interactiveshell.py:2961: UserWarning: To output multiple subplots, the figure containing the passed axes is being cleared\n",
      "  exec(code_obj, self.user_global_ns, self.user_ns)\n"
     ]
    },
    {
     "data": {
      "text/plain": [
       "array([[<matplotlib.axes._subplots.AxesSubplot object at 0x7f4c0154d080>,\n",
       "        <matplotlib.axes._subplots.AxesSubplot object at 0x7f4c01261dd8>,\n",
       "        <matplotlib.axes._subplots.AxesSubplot object at 0x7f4c01213128>,\n",
       "        <matplotlib.axes._subplots.AxesSubplot object at 0x7f4c011c9278>],\n",
       "       [<matplotlib.axes._subplots.AxesSubplot object at 0x7f4c01203198>,\n",
       "        <matplotlib.axes._subplots.AxesSubplot object at 0x7f4c012031d0>,\n",
       "        <matplotlib.axes._subplots.AxesSubplot object at 0x7f4c01150898>,\n",
       "        <matplotlib.axes._subplots.AxesSubplot object at 0x7f4c0111bb38>],\n",
       "       [<matplotlib.axes._subplots.AxesSubplot object at 0x7f4c010d5b38>,\n",
       "        <matplotlib.axes._subplots.AxesSubplot object at 0x7f4c0108cb38>,\n",
       "        <matplotlib.axes._subplots.AxesSubplot object at 0x7f4c010c4a58>,\n",
       "        <matplotlib.axes._subplots.AxesSubplot object at 0x7f4c0106c860>],\n",
       "       [<matplotlib.axes._subplots.AxesSubplot object at 0x7f4c01021978>,\n",
       "        <matplotlib.axes._subplots.AxesSubplot object at 0x7f4c00fd5eb8>,\n",
       "        <matplotlib.axes._subplots.AxesSubplot object at 0x7f4c00f99438>,\n",
       "        <matplotlib.axes._subplots.AxesSubplot object at 0x7f4c00fbf2b0>]], dtype=object)"
      ]
     },
     "execution_count": 76,
     "metadata": {},
     "output_type": "execute_result"
    },
    {
     "data": {
      "image/png": "[encoded data removed]",
      "text/plain": [
       "<matplotlib.figure.Figure at 0x7f4c01357780>"
      ]
     },
     "metadata": {
      "needs_background": "light"
     },
     "output_type": "display_data"
    }
   ],
   "source": [
    "fig = plt.figure(figsize=(30,25))\n",
    "ax = fig.gca()\n",
    "final_df.toPandas().hist(ax=ax)"
   ]
  },
  {
   "cell_type": "markdown",
   "metadata": {},
   "source": [
    "# Modeling\n",
    "Split the full dataset into train, test, and validation sets. Test out several of the machine learning methods you learned. Evaluate the accuracy of the various models, tuning parameters as necessary. Determine your winning model based on test accuracy and report results on the validation set. Since the churned users are a fairly small subset, I suggest using F1 score as the metric to optimize."
   ]
  },
  {
   "cell_type": "markdown",
   "metadata": {},
   "source": [
    "### Prepare dataset \n",
    "\n",
    "For this we need:\n",
    "- Choose the features\n",
    "- Prepare the dataset to feed the Spark ML classifiers and for that we will need to use the **VectorAssembler** to create a column containing a vector with all features.\n",
    "- Work only the necessary columns\n",
    "- Perform random split to have a train and test dataset.\n"
   ]
  },
  {
   "cell_type": "code",
   "execution_count": 77,
   "metadata": {},
   "outputs": [],
   "source": [
    "# Vector assembler for input features\n",
    "feature_columns = list(set(final_df.columns) - set(['userId', 'churned']))\n",
    "assembler = VectorAssembler(inputCols=feature_columns, outputCol=\"features\")\n",
    "final_data = assembler.transform(final_df.drop(\"userId\"))\n",
    "final_data = final_data.select(\"churned\", \"features\")\n",
    "\n",
    "train, test = final_data.randomSplit([0.8, 0.2], seed=45)"
   ]
  },
  {
   "cell_type": "markdown",
   "metadata": {},
   "source": [
    "### Evaluate  models\n",
    "\n",
    "Now, we need to feed our dataset into different classifiers that make sense to test and see what are the ones that without any tunning give us the best results using the features that we chose.\n",
    "\n",
    "The models that we are going to test are:\n",
    "- LinearSVC\n",
    "- DecisionTreeClassifier\n",
    "- LogisticRegression\n",
    "- RandomForestClassifier\n",
    "- GBTClassifier"
   ]
  },
  {
   "cell_type": "code",
   "execution_count": 41,
   "metadata": {},
   "outputs": [],
   "source": [
    "def evaluate_model(training_data, test_data, classifier_class, label=\"churned\"):\n",
    "    \"\"\"\n",
    "    Fits, predicts and evaluates the given model with the given training and test dataset.\n",
    "    :param training_data : Spark DataFrame containing the training data.\n",
    "    :param test_data : Spark DataFrame containing the test data.\n",
    "    :param classifier_class_str: Classifier class.\n",
    "    :param label: label column name.\n",
    "    :return f1, auc, accuracy scores.\n",
    "    \"\"\"\n",
    "    classifier = classifier_class(labelCol=label)\n",
    "    model = classifier.fit(training_data)\n",
    "    predictions = model.transform(test_data)\n",
    "    \n",
    "    accuracy_evaluator = MulticlassClassificationEvaluator(labelCol=label, metricName='accuracy')\n",
    "    accuracy_score = accuracy_evaluator.evaluate(predictions.select(label, 'prediction'))\n",
    "    f1_evaluator = MulticlassClassificationEvaluator(labelCol=label, metricName='f1')\n",
    "    f1_score = f1_evaluator.evaluate(predictions.select(label, 'prediction'))\n",
    "    auc_evaluator = BinaryClassificationEvaluator(labelCol=label)\n",
    "    auc_score = auc_evaluator.evaluate(predictions.select(label, 'rawPrediction'), \n",
    "                                       {auc_evaluator.metricName: \"areaUnderROC\"})\n",
    "    return f1_score, auc_score, accuracy_score"
   ]
  },
  {
   "cell_type": "code",
   "execution_count": 42,
   "metadata": {},
   "outputs": [
    {
     "name": "stdout",
     "output_type": "stream",
     "text": [
      "Doing: LinearSVC\n",
      "Doing: DecisionTreeClassifier\n",
      "Doing: LogisticRegression\n",
      "Doing: RandomForestClassifier\n",
      "Doing: GBTClassifier\n"
     ]
    }
   ],
   "source": [
    "models_to_test = ['LinearSVC', 'DecisionTreeClassifier', 'LogisticRegression', 'RandomForestClassifier', 'GBTClassifier']\n",
    "model_metrics=[]\n",
    "\n",
    "# test each model and collect the necessary metrics\n",
    "for classifier in models_to_test:\n",
    "    print (\"Doing: \" + classifier)\n",
    "    f1_score, auc_score, accuracy_score = evaluate_model(train, test, eval(classifier))\n",
    "    model_metrics.append((classifier, f1_score, auc_score, accuracy_score))\n",
    "\n",
    "# create pandas df with the models results\n",
    "model_metrics_df = pd.DataFrame(model_metrics, columns=[\"model\", \"f1_score\", \"auc\", \"accuracy\"])"
   ]
  },
  {
   "cell_type": "code",
   "execution_count": 43,
   "metadata": {},
   "outputs": [
    {
     "data": {
      "text/html": [
       "<div>\n",
       "<style scoped>\n",
       "    .dataframe tbody tr th:only-of-type {\n",
       "        vertical-align: middle;\n",
       "    }\n",
       "\n",
       "    .dataframe tbody tr th {\n",
       "        vertical-align: top;\n",
       "    }\n",
       "\n",
       "    .dataframe thead th {\n",
       "        text-align: right;\n",
       "    }\n",
       "</style>\n",
       "<table border=\"1\" class=\"dataframe\">\n",
       "  <thead>\n",
       "    <tr style=\"text-align: right;\">\n",
       "      <th></th>\n",
       "      <th>model</th>\n",
       "      <th>f1_score</th>\n",
       "      <th>auc</th>\n",
       "      <th>accuracy</th>\n",
       "    </tr>\n",
       "  </thead>\n",
       "  <tbody>\n",
       "    <tr>\n",
       "      <th>0</th>\n",
       "      <td>LinearSVC</td>\n",
       "      <td>0.745890</td>\n",
       "      <td>0.389610</td>\n",
       "      <td>0.825</td>\n",
       "    </tr>\n",
       "    <tr>\n",
       "      <th>1</th>\n",
       "      <td>DecisionTreeClassifier</td>\n",
       "      <td>0.695938</td>\n",
       "      <td>0.500000</td>\n",
       "      <td>0.675</td>\n",
       "    </tr>\n",
       "    <tr>\n",
       "      <th>2</th>\n",
       "      <td>LogisticRegression</td>\n",
       "      <td>0.786275</td>\n",
       "      <td>0.783550</td>\n",
       "      <td>0.800</td>\n",
       "    </tr>\n",
       "    <tr>\n",
       "      <th>3</th>\n",
       "      <td>RandomForestClassifier</td>\n",
       "      <td>0.824286</td>\n",
       "      <td>0.740260</td>\n",
       "      <td>0.850</td>\n",
       "    </tr>\n",
       "    <tr>\n",
       "      <th>4</th>\n",
       "      <td>GBTClassifier</td>\n",
       "      <td>0.723656</td>\n",
       "      <td>0.627706</td>\n",
       "      <td>0.700</td>\n",
       "    </tr>\n",
       "  </tbody>\n",
       "</table>\n",
       "</div>"
      ],
      "text/plain": [
       "                    model  f1_score       auc  accuracy\n",
       "0               LinearSVC  0.745890  0.389610     0.825\n",
       "1  DecisionTreeClassifier  0.695938  0.500000     0.675\n",
       "2      LogisticRegression  0.786275  0.783550     0.800\n",
       "3  RandomForestClassifier  0.824286  0.740260     0.850\n",
       "4           GBTClassifier  0.723656  0.627706     0.700"
      ]
     },
     "execution_count": 43,
     "metadata": {},
     "output_type": "execute_result"
    }
   ],
   "source": [
    "model_metrics_df.head()"
   ]
  },
  {
   "cell_type": "code",
   "execution_count": 45,
   "metadata": {},
   "outputs": [
    {
     "data": {
      "text/plain": [
       "<matplotlib.axes._subplots.AxesSubplot at 0x7fc503f15ba8>"
      ]
     },
     "execution_count": 45,
     "metadata": {},
     "output_type": "execute_result"
    },
    {
     "data": {
      "image/png": "[encoded data removed]",
      "text/plain": [
       "<matplotlib.figure.Figure at 0x7fc503e41cf8>"
      ]
     },
     "metadata": {
      "needs_background": "light"
     },
     "output_type": "display_data"
    }
   ],
   "source": [
    "(model_metrics_df\n",
    ".plot(title=\"Models evaluation\",\n",
    "      x=\"model\", \n",
    "      y=[\"f1_score\", \"auc\", \"accuracy\"], \n",
    "      kind=\"bar\", \n",
    "      figsize=(12, 7)))"
   ]
  },
  {
   "cell_type": "markdown",
   "metadata": {},
   "source": [
    "### Tunning the best model\n",
    "\n",
    "At this stage we are picking the best model found at the previous steps and we are trying to optimize it to the F1 score metric.\n",
    "\n",
    "By the previous analysis I going to optimize 2 best models the **RandomForestClassifier & LogisticRegression** classifiers."
   ]
  },
  {
   "cell_type": "code",
   "execution_count": 12,
   "metadata": {},
   "outputs": [],
   "source": [
    "def optimize_model(training_data, test_data, classifier_class, param_grid_fn, label=\"churned\"):\n",
    "    \"\"\"\n",
    "    Optimizes the given classifier algorithm to the F1 score using cross validation and the given param_grid.\n",
    "    :param training_data : Spark DataFrame containing the training data.\n",
    "    :param test_data : Spark DataFrame containing the test data.\n",
    "    :param classifier_class: Classifier class.\n",
    "    :param param_grid: Param grid to use for optimization.\n",
    "    :param label: label column name.\n",
    "    :return model and the pandas dataframe with the F1 score for each of the grid params.\n",
    "    \"\"\"\n",
    "    classifier = classifier_class(labelCol=label)\n",
    "    pipeline = Pipeline(stages=[classifier])\n",
    "    crossval = CrossValidator(estimator=pipeline,\n",
    "                              estimatorParamMaps=param_grid_fn(classifier),\n",
    "                              evaluator=MulticlassClassificationEvaluator(labelCol=label, metricName='f1'),\n",
    "                              numFolds=3,\n",
    "                              parallelism=3)\n",
    "    \n",
    "    cv_model = crossval.fit(training_data)\n",
    "    prediction = cv_model.transform(test_data)\n",
    "    params = [{p.name: v for p, v in m.items()} for m in cv_model.getEstimatorParamMaps()]\n",
    "    return cv_model, pd.DataFrame.from_dict([\n",
    "        {cv_model.getEvaluator().getMetricName(): metric, **ps} \n",
    "        for ps, metric in zip(params, cv_model.avgMetrics)\n",
    "    ])"
   ]
  },
  {
   "cell_type": "markdown",
   "metadata": {},
   "source": [
    "#### Tune Random Forest"
   ]
  },
  {
   "cell_type": "code",
   "execution_count": 13,
   "metadata": {},
   "outputs": [],
   "source": [
    "param_grid_rf_fn =(lambda model: ParamGridBuilder()\n",
    "                 .addGrid(model.maxDepth, [5, 10, 15, 20])\n",
    "                 .addGrid(model.numTrees, [20, 30, 50, 75])\n",
    "                 .build())\n",
    "model_rf, result_rf = optimize_model(train, test, RandomForestClassifier, param_grid_rf_fn)"
   ]
  },
  {
   "cell_type": "code",
   "execution_count": 14,
   "metadata": {},
   "outputs": [
    {
     "data": {
      "text/html": [
       "<div>\n",
       "<style scoped>\n",
       "    .dataframe tbody tr th:only-of-type {\n",
       "        vertical-align: middle;\n",
       "    }\n",
       "\n",
       "    .dataframe tbody tr th {\n",
       "        vertical-align: top;\n",
       "    }\n",
       "\n",
       "    .dataframe thead th {\n",
       "        text-align: right;\n",
       "    }\n",
       "</style>\n",
       "<table border=\"1\" class=\"dataframe\">\n",
       "  <thead>\n",
       "    <tr style=\"text-align: right;\">\n",
       "      <th></th>\n",
       "      <th>f1</th>\n",
       "      <th>maxDepth</th>\n",
       "      <th>numTrees</th>\n",
       "    </tr>\n",
       "  </thead>\n",
       "  <tbody>\n",
       "    <tr>\n",
       "      <th>0</th>\n",
       "      <td>0.643067</td>\n",
       "      <td>5</td>\n",
       "      <td>20</td>\n",
       "    </tr>\n",
       "    <tr>\n",
       "      <th>1</th>\n",
       "      <td>0.694858</td>\n",
       "      <td>5</td>\n",
       "      <td>30</td>\n",
       "    </tr>\n",
       "    <tr>\n",
       "      <th>2</th>\n",
       "      <td>0.637023</td>\n",
       "      <td>5</td>\n",
       "      <td>50</td>\n",
       "    </tr>\n",
       "    <tr>\n",
       "      <th>3</th>\n",
       "      <td>0.667083</td>\n",
       "      <td>5</td>\n",
       "      <td>75</td>\n",
       "    </tr>\n",
       "    <tr>\n",
       "      <th>4</th>\n",
       "      <td>0.682774</td>\n",
       "      <td>10</td>\n",
       "      <td>20</td>\n",
       "    </tr>\n",
       "    <tr>\n",
       "      <th>5</th>\n",
       "      <td>0.674796</td>\n",
       "      <td>10</td>\n",
       "      <td>30</td>\n",
       "    </tr>\n",
       "    <tr>\n",
       "      <th>6</th>\n",
       "      <td>0.668054</td>\n",
       "      <td>10</td>\n",
       "      <td>50</td>\n",
       "    </tr>\n",
       "    <tr>\n",
       "      <th>7</th>\n",
       "      <td>0.694941</td>\n",
       "      <td>10</td>\n",
       "      <td>75</td>\n",
       "    </tr>\n",
       "    <tr>\n",
       "      <th>8</th>\n",
       "      <td>0.660410</td>\n",
       "      <td>15</td>\n",
       "      <td>20</td>\n",
       "    </tr>\n",
       "    <tr>\n",
       "      <th>9</th>\n",
       "      <td>0.678506</td>\n",
       "      <td>15</td>\n",
       "      <td>30</td>\n",
       "    </tr>\n",
       "    <tr>\n",
       "      <th>10</th>\n",
       "      <td>0.654333</td>\n",
       "      <td>15</td>\n",
       "      <td>50</td>\n",
       "    </tr>\n",
       "    <tr>\n",
       "      <th>11</th>\n",
       "      <td>0.694941</td>\n",
       "      <td>15</td>\n",
       "      <td>75</td>\n",
       "    </tr>\n",
       "    <tr>\n",
       "      <th>12</th>\n",
       "      <td>0.660410</td>\n",
       "      <td>20</td>\n",
       "      <td>20</td>\n",
       "    </tr>\n",
       "    <tr>\n",
       "      <th>13</th>\n",
       "      <td>0.678506</td>\n",
       "      <td>20</td>\n",
       "      <td>30</td>\n",
       "    </tr>\n",
       "    <tr>\n",
       "      <th>14</th>\n",
       "      <td>0.654333</td>\n",
       "      <td>20</td>\n",
       "      <td>50</td>\n",
       "    </tr>\n",
       "    <tr>\n",
       "      <th>15</th>\n",
       "      <td>0.694941</td>\n",
       "      <td>20</td>\n",
       "      <td>75</td>\n",
       "    </tr>\n",
       "  </tbody>\n",
       "</table>\n",
       "</div>"
      ],
      "text/plain": [
       "          f1  maxDepth  numTrees\n",
       "0   0.643067         5        20\n",
       "1   0.694858         5        30\n",
       "2   0.637023         5        50\n",
       "3   0.667083         5        75\n",
       "4   0.682774        10        20\n",
       "5   0.674796        10        30\n",
       "6   0.668054        10        50\n",
       "7   0.694941        10        75\n",
       "8   0.660410        15        20\n",
       "9   0.678506        15        30\n",
       "10  0.654333        15        50\n",
       "11  0.694941        15        75\n",
       "12  0.660410        20        20\n",
       "13  0.678506        20        30\n",
       "14  0.654333        20        50\n",
       "15  0.694941        20        75"
      ]
     },
     "execution_count": 14,
     "metadata": {},
     "output_type": "execute_result"
    }
   ],
   "source": [
    "result_rf.head(500)"
   ]
  },
  {
   "cell_type": "markdown",
   "metadata": {},
   "source": [
    "#### Tune Logistic Regression"
   ]
  },
  {
   "cell_type": "code",
   "execution_count": 15,
   "metadata": {},
   "outputs": [],
   "source": [
    "param_grid_lr_fn = (lambda model: ParamGridBuilder()\n",
    "              .addGrid(model.regParam, [0.0, 0.05, 0.1])\n",
    "              .addGrid(model.elasticNetParam, [0.0, 0.5, 1.0])\n",
    "              .build())\n",
    "model_lr, result_lr = optimize_model(train, test, LogisticRegression, param_grid_lr_fn)"
   ]
  },
  {
   "cell_type": "code",
   "execution_count": 16,
   "metadata": {},
   "outputs": [
    {
     "data": {
      "text/html": [
       "<div>\n",
       "<style scoped>\n",
       "    .dataframe tbody tr th:only-of-type {\n",
       "        vertical-align: middle;\n",
       "    }\n",
       "\n",
       "    .dataframe tbody tr th {\n",
       "        vertical-align: top;\n",
       "    }\n",
       "\n",
       "    .dataframe thead th {\n",
       "        text-align: right;\n",
       "    }\n",
       "</style>\n",
       "<table border=\"1\" class=\"dataframe\">\n",
       "  <thead>\n",
       "    <tr style=\"text-align: right;\">\n",
       "      <th></th>\n",
       "      <th>elasticNetParam</th>\n",
       "      <th>f1</th>\n",
       "      <th>regParam</th>\n",
       "    </tr>\n",
       "  </thead>\n",
       "  <tbody>\n",
       "    <tr>\n",
       "      <th>0</th>\n",
       "      <td>0.0</td>\n",
       "      <td>0.711939</td>\n",
       "      <td>0.00</td>\n",
       "    </tr>\n",
       "    <tr>\n",
       "      <th>1</th>\n",
       "      <td>0.5</td>\n",
       "      <td>0.711939</td>\n",
       "      <td>0.00</td>\n",
       "    </tr>\n",
       "    <tr>\n",
       "      <th>2</th>\n",
       "      <td>1.0</td>\n",
       "      <td>0.711939</td>\n",
       "      <td>0.00</td>\n",
       "    </tr>\n",
       "    <tr>\n",
       "      <th>3</th>\n",
       "      <td>0.0</td>\n",
       "      <td>0.662987</td>\n",
       "      <td>0.05</td>\n",
       "    </tr>\n",
       "    <tr>\n",
       "      <th>4</th>\n",
       "      <td>0.5</td>\n",
       "      <td>0.672060</td>\n",
       "      <td>0.05</td>\n",
       "    </tr>\n",
       "    <tr>\n",
       "      <th>5</th>\n",
       "      <td>1.0</td>\n",
       "      <td>0.660563</td>\n",
       "      <td>0.05</td>\n",
       "    </tr>\n",
       "    <tr>\n",
       "      <th>6</th>\n",
       "      <td>0.0</td>\n",
       "      <td>0.662925</td>\n",
       "      <td>0.10</td>\n",
       "    </tr>\n",
       "    <tr>\n",
       "      <th>7</th>\n",
       "      <td>0.5</td>\n",
       "      <td>0.650388</td>\n",
       "      <td>0.10</td>\n",
       "    </tr>\n",
       "    <tr>\n",
       "      <th>8</th>\n",
       "      <td>1.0</td>\n",
       "      <td>0.650388</td>\n",
       "      <td>0.10</td>\n",
       "    </tr>\n",
       "  </tbody>\n",
       "</table>\n",
       "</div>"
      ],
      "text/plain": [
       "   elasticNetParam        f1  regParam\n",
       "0              0.0  0.711939      0.00\n",
       "1              0.5  0.711939      0.00\n",
       "2              1.0  0.711939      0.00\n",
       "3              0.0  0.662987      0.05\n",
       "4              0.5  0.672060      0.05\n",
       "5              1.0  0.660563      0.05\n",
       "6              0.0  0.662925      0.10\n",
       "7              0.5  0.650388      0.10\n",
       "8              1.0  0.650388      0.10"
      ]
     },
     "execution_count": 16,
     "metadata": {},
     "output_type": "execute_result"
    }
   ],
   "source": [
    "result_lr.head(500)"
   ]
  },
  {
   "cell_type": "code",
   "execution_count": 34,
   "metadata": {},
   "outputs": [
    {
     "data": {
      "text/html": [
       "<div>\n",
       "<style scoped>\n",
       "    .dataframe tbody tr th:only-of-type {\n",
       "        vertical-align: middle;\n",
       "    }\n",
       "\n",
       "    .dataframe tbody tr th {\n",
       "        vertical-align: top;\n",
       "    }\n",
       "\n",
       "    .dataframe thead th {\n",
       "        text-align: right;\n",
       "    }\n",
       "</style>\n",
       "<table border=\"1\" class=\"dataframe\">\n",
       "  <thead>\n",
       "    <tr style=\"text-align: right;\">\n",
       "      <th></th>\n",
       "      <th>feature</th>\n",
       "      <th>coef</th>\n",
       "    </tr>\n",
       "  </thead>\n",
       "  <tbody>\n",
       "    <tr>\n",
       "      <th>9</th>\n",
       "      <td>daily_avg_num_sessions</td>\n",
       "      <td>10.165230</td>\n",
       "    </tr>\n",
       "    <tr>\n",
       "      <th>0</th>\n",
       "      <td>level</td>\n",
       "      <td>0.402985</td>\n",
       "    </tr>\n",
       "    <tr>\n",
       "      <th>3</th>\n",
       "      <td>gender</td>\n",
       "      <td>0.202917</td>\n",
       "    </tr>\n",
       "    <tr>\n",
       "      <th>7</th>\n",
       "      <td>daily_avg_adverts_rolled</td>\n",
       "      <td>0.136517</td>\n",
       "    </tr>\n",
       "    <tr>\n",
       "      <th>2</th>\n",
       "      <td>monthly_avg_adverts_rolled</td>\n",
       "      <td>0.035535</td>\n",
       "    </tr>\n",
       "    <tr>\n",
       "      <th>1</th>\n",
       "      <td>daily_avg_songs_played</td>\n",
       "      <td>0.012660</td>\n",
       "    </tr>\n",
       "    <tr>\n",
       "      <th>11</th>\n",
       "      <td>monthly_avg_time_usage</td>\n",
       "      <td>0.000028</td>\n",
       "    </tr>\n",
       "    <tr>\n",
       "      <th>4</th>\n",
       "      <td>daily_avg_time_usage</td>\n",
       "      <td>-0.000137</td>\n",
       "    </tr>\n",
       "    <tr>\n",
       "      <th>5</th>\n",
       "      <td>monthly_avg_songs_played</td>\n",
       "      <td>-0.004591</td>\n",
       "    </tr>\n",
       "    <tr>\n",
       "      <th>8</th>\n",
       "      <td>monthly_avg_errors</td>\n",
       "      <td>-0.165482</td>\n",
       "    </tr>\n",
       "    <tr>\n",
       "      <th>10</th>\n",
       "      <td>monthly_avg_num_sessions</td>\n",
       "      <td>-0.405957</td>\n",
       "    </tr>\n",
       "    <tr>\n",
       "      <th>6</th>\n",
       "      <td>daily_avg_errors</td>\n",
       "      <td>-1.082872</td>\n",
       "    </tr>\n",
       "  </tbody>\n",
       "</table>\n",
       "</div>"
      ],
      "text/plain": [
       "                       feature       coef\n",
       "9       daily_avg_num_sessions  10.165230\n",
       "0                        level   0.402985\n",
       "3                       gender   0.202917\n",
       "7     daily_avg_adverts_rolled   0.136517\n",
       "2   monthly_avg_adverts_rolled   0.035535\n",
       "1       daily_avg_songs_played   0.012660\n",
       "11      monthly_avg_time_usage   0.000028\n",
       "4         daily_avg_time_usage  -0.000137\n",
       "5     monthly_avg_songs_played  -0.004591\n",
       "8           monthly_avg_errors  -0.165482\n",
       "10    monthly_avg_num_sessions  -0.405957\n",
       "6             daily_avg_errors  -1.082872"
      ]
     },
     "execution_count": 34,
     "metadata": {},
     "output_type": "execute_result"
    }
   ],
   "source": [
    "lr_coefs = pd.DataFrame([(feature,coef) for feature,coef in zip(feature_columns, model_lr.bestModel.stages[0].coefficients.values)], columns=['feature', 'coef'])\n",
    "lr_coefs.sort_values(by='coef', ascending=False).head(20) "
   ]
  },
  {
   "cell_type": "markdown",
   "metadata": {},
   "source": [
    "# Final Steps\n",
    "Clean up your code, adding comments and renaming variables to make the code easier to read and maintain. Refer to the Spark Project Overview page and Data Scientist Capstone Project Rubric to make sure you are including all components of the capstone project and meet all expectations. Remember, this includes thorough documentation in a README file in a Github repository, as well as a web app or blog post."
   ]
  },
  {
   "cell_type": "code",
   "execution_count": 6,
   "metadata": {},
   "outputs": [
    {
     "data": {
      "text/plain": [
       "0"
      ]
     },
     "execution_count": 6,
     "metadata": {},
     "output_type": "execute_result"
    }
   ],
   "source": [
    "from subprocess import call\n",
    "call(['python', '-m', 'nbconvert', 'Sparkify.ipynb'])"
   ]
  },
  {
   "cell_type": "code",
   "execution_count": null,
   "metadata": {},
   "outputs": [],
   "source": []
  }
 ],
 "metadata": {
  "kernelspec": {
   "display_name": "Python 3",
   "language": "python",
   "name": "python3"
  },
  "language_info": {
   "codemirror_mode": {
    "name": "ipython",
    "version": 3
   },
   "file_extension": ".py",
   "mimetype": "text/x-python",
   "name": "python",
   "nbconvert_exporter": "python",
   "pygments_lexer": "ipython3",
   "version": "3.6.3"
  }
 },
 "nbformat": 4,
 "nbformat_minor": 2
}

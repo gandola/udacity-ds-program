{
 "cells": [
  {
   "cell_type": "code",
   "execution_count": null,
   "metadata": {},
   "outputs": [],
   "source": [
    "import numpy as np\n",
    "import pandas as pd\n",
    "import matplotlib.pyplot as plt\n",
    "import seaborn as sns\n",
    "import math\n",
    "import re\n",
    "from ast import literal_eval\n",
    "from scipy import stats\n",
    "\n",
    "import common as c\n",
    "\n",
    "%matplotlib inline\n",
    "\n",
    "plt.rcParams[\"figure.figsize\"] = (20,3)\n",
    "pd.set_option('display.max_columns', None)\n",
    "pd.set_option('display.max_rows', None)"
   ]
  },
  {
   "cell_type": "markdown",
   "metadata": {},
   "source": [
    "## Load dataset"
   ]
  },
  {
   "cell_type": "code",
   "execution_count": null,
   "metadata": {},
   "outputs": [],
   "source": [
    "listings_df = pd.read_csv('./data/boston/listings.csv')"
   ]
  },
  {
   "cell_type": "markdown",
   "metadata": {},
   "source": [
    "## Data Cleanup"
   ]
  },
  {
   "cell_type": "code",
   "execution_count": null,
   "metadata": {},
   "outputs": [],
   "source": [
    "## Look at the data\n",
    "listings_df[['id','amenities', 'price']].head(5)"
   ]
  },
  {
   "cell_type": "code",
   "execution_count": null,
   "metadata": {},
   "outputs": [],
   "source": [
    "# Ameneties need to be converted into a List and then need to be exploded to be in the format that we want to do \n",
    "# this small analysis.\n",
    "amenities_df = listings_df[['id','amenities']].copy()\n",
    "amenities_df['amenities'] = amenities_df['amenities'].apply(literal_eval) #convert to list type\n",
    "amenities_df = amenities_df.explode('amenities')\n",
    "\n",
    "# For price we need to remove special chars and convert it to a float.\n",
    "price_df = listings_df[['id','price']].copy()\n",
    "price_df['price'] = c.clean_price(price_df)\n",
    "\n",
    "# merge prices with amenities.\n",
    "merged_df = pd.merge(amenities_df, price_df, on='id')\n",
    "merged_df = merged_df[merged_df['price'] > .0]"
   ]
  },
  {
   "cell_type": "code",
   "execution_count": null,
   "metadata": {},
   "outputs": [],
   "source": [
    "merged_df['price'].describe()"
   ]
  },
  {
   "cell_type": "code",
   "execution_count": null,
   "metadata": {},
   "outputs": [],
   "source": [
    "merged_df['price_range'] = c.create_pricing_groups(merged_df)"
   ]
  },
  {
   "cell_type": "code",
   "execution_count": null,
   "metadata": {},
   "outputs": [],
   "source": [
    "def show_group_data(df, group_name):\n",
    "    group_df = df[df['price_range'] == group_name].copy()\n",
    "    group_df = group_df.groupby('amenities').agg({\"price\": ['mean', 'count']})\n",
    "    group_df.columns = group_df.columns.droplevel(0)\n",
    "    group_df['group_median'] = group_df['mean'].mean()\n",
    "    \n",
    "    #filter data with relevance between 0.20, 0.50\n",
    "    relevance_quantiles = group_df['count'].quantile([0.20, 0.65])\n",
    "    lower_limit = relevance_quantiles.iloc[0]\n",
    "    higher_limit = relevance_quantiles.iloc[1]\n",
    "    \n",
    "    # Choose data between the relevance limits and >= group mean.\n",
    "    data = group_df[group_df['count'] >= lower_limit][group_df['count'] < higher_limit][group_df['mean'] >= group_df['mean'].mean()].copy()\n",
    "    \n",
    "    #plotting\n",
    "    ax = data['group_median'].plot(x='amenities', linestyle='-', color=\"red\", marker='o')\n",
    "    data[['mean']].sort_values(by=['mean'], ascending=True).plot( kind=\"bar\", ax=ax)\n"
   ]
  },
  {
   "cell_type": "markdown",
   "metadata": {},
   "source": [
    "## Low Group"
   ]
  },
  {
   "cell_type": "code",
   "execution_count": null,
   "metadata": {},
   "outputs": [],
   "source": [
    "show_group_data(merged_df, 'low')"
   ]
  },
  {
   "cell_type": "markdown",
   "metadata": {},
   "source": [
    "## MediumLow Group"
   ]
  },
  {
   "cell_type": "code",
   "execution_count": null,
   "metadata": {},
   "outputs": [],
   "source": [
    "show_group_data(merged_df, 'medium_low')"
   ]
  },
  {
   "cell_type": "markdown",
   "metadata": {},
   "source": [
    "## Study Medium group"
   ]
  },
  {
   "cell_type": "code",
   "execution_count": null,
   "metadata": {},
   "outputs": [],
   "source": [
    "show_group_data(merged_df, 'medium')"
   ]
  },
  {
   "cell_type": "markdown",
   "metadata": {},
   "source": [
    "## Study Medium High group"
   ]
  },
  {
   "cell_type": "code",
   "execution_count": null,
   "metadata": {},
   "outputs": [],
   "source": [
    "show_group_data(merged_df, 'medium_high')"
   ]
  },
  {
   "cell_type": "markdown",
   "metadata": {},
   "source": [
    "## High Group"
   ]
  },
  {
   "cell_type": "code",
   "execution_count": null,
   "metadata": {},
   "outputs": [],
   "source": [
    "show_group_data(merged_df, 'high')"
   ]
  }
 ],
 "metadata": {
  "kernelspec": {
   "display_name": "Python 3",
   "language": "python",
   "name": "python3"
  },
  "language_info": {
   "codemirror_mode": {
    "name": "ipython",
    "version": 3
   },
   "file_extension": ".py",
   "mimetype": "text/x-python",
   "name": "python",
   "nbconvert_exporter": "python",
   "pygments_lexer": "ipython3",
   "version": "3.8.3"
  }
 },
 "nbformat": 4,
 "nbformat_minor": 4
}

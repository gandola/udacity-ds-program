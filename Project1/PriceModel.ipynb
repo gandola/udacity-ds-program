{
 "cells": [
  {
   "cell_type": "code",
   "execution_count": null,
   "metadata": {},
   "outputs": [],
   "source": [
    "import numpy as np\n",
    "import pandas as pd\n",
    "import matplotlib.pyplot as plt\n",
    "from sklearn.linear_model import LinearRegression\n",
    "from sklearn.model_selection import train_test_split\n",
    "from sklearn.metrics import r2_score, mean_squared_error,plot_roc_curve\n",
    "import seaborn as sns\n",
    "import math\n",
    "import re\n",
    "from ast import literal_eval\n",
    "from scipy import stats\n",
    "import common as c\n",
    "\n",
    "%matplotlib inline\n",
    "\n",
    "plt.rcParams[\"figure.figsize\"] = (20,3)\n",
    "pd.set_option('display.max_columns', None)\n",
    "pd.set_option('display.max_rows', None)"
   ]
  },
  {
   "cell_type": "code",
   "execution_count": null,
   "metadata": {},
   "outputs": [],
   "source": [
    "#Load Data \n",
    "listings_df = pd.read_csv('./data/boston/listings.csv')"
   ]
  },
  {
   "cell_type": "markdown",
   "metadata": {},
   "source": [
    "## Data Study"
   ]
  },
  {
   "cell_type": "code",
   "execution_count": null,
   "metadata": {},
   "outputs": [],
   "source": [
    "listings_df.describe()"
   ]
  },
  {
   "cell_type": "markdown",
   "metadata": {},
   "source": [
    "## Data Cleanup And Normalization "
   ]
  },
  {
   "cell_type": "code",
   "execution_count": null,
   "metadata": {},
   "outputs": [],
   "source": [
    "def fillna_with_mean(df):\n",
    "    \"\"\"\n",
    "    Fills the NAs on numerical columns with the mean of the column.\n",
    "    \"\"\"\n",
    "    num_vars = df.select_dtypes(include=['float', 'int']).columns\n",
    "    for col in num_vars:\n",
    "        df[col].fillna((df[col].mean()), inplace=True)\n",
    "        \n",
    "    return df\n",
    "\n",
    "def convert_baths_text_to_numbers(baths_text):\n",
    "    \"\"\"\n",
    "    Converts the bathrooms to number.\n",
    "    \"\"\"\n",
    "    baths_str = str(baths_text).lower()\n",
    "    if baths_str == \"half-bath\" or baths_str == \"private half-bath\" or baths_str == \"shared half-bath\":\n",
    "        return 0.5\n",
    "    else:\n",
    "        return float(re.match(\"([\\d\\.]+)([ \\-a-bA-Z]*)\", baths_text).group(1))\n",
    "    \n",
    "def explode_list_to_col(df, id_col, col_to_explode, prefix=\"\"):\n",
    "    \"\"\"\n",
    "    Explodes a column of the type List into columns with a flag (0 or 1) of observed or not.\n",
    "    \"\"\"\n",
    "    _df = df[[id_col, col_to_explode]].copy()\n",
    "    _df[col_to_explode] = _df[col_to_explode].apply(literal_eval) #convert to list type\n",
    "    _df = _df.explode(col_to_explode)\n",
    "    _df[\"observed\"] = 1\n",
    "    _df[col_to_explode] = _df[col_to_explode].apply(lambda x: str(prefix) + str(x))\n",
    "    _df = pd.pivot_table(_df, index=id_col, columns=[col_to_explode], values=\"observed\", aggfunc=np.max, fill_value=0)\n",
    "    merged_df = pd.merge(df, _df, on=id_col)\n",
    "    return merged_df\n",
    "\n",
    "def cleanup_and_normalize_dataset(original_df):\n",
    "    \"\"\"\n",
    "    Applies the necessary operations to clean up the AirBnB listings dataset.\n",
    "    \"\"\"\n",
    "    df = original_df.copy()\n",
    "    # Remove percentage chars from rates.\n",
    "    df['host_response_rate'] = df['host_response_rate'].str.replace('%', '').astype(float)\n",
    "    df['host_acceptance_rate'] = df['host_acceptance_rate'].str.replace('%', '').astype(float)\n",
    "\n",
    "    # Convert booleans with 0s and 1s\n",
    "    df['host_is_superhost'] = df['host_is_superhost'].str.replace('f','0').str.replace('t','1').astype(int)\n",
    "    df['host_has_profile_pic'] = df['host_has_profile_pic'].str.replace('f','0').str.replace('t','1').astype(int)\n",
    "    df['host_identity_verified'] = df['host_identity_verified'].str.replace('f','0').str.replace('t','1').astype(int)\n",
    "    df['instant_bookable'] = df['instant_bookable'].str.replace('f','0').str.replace('t','1').astype(int)\n",
    "    \n",
    "    #Extract info from bathrooms text \n",
    "    df['num_bathrooms'] = df['bathrooms_text'].fillna('0 baths').apply(lambda b_str: convert_baths_text_to_numbers(b_str))\n",
    "    df['shared_bathrooms'] = df['bathrooms_text'].fillna('0 baths').apply(lambda b_str: 1 if \"shared\" in b_str.lower() else 0)\n",
    "    df['half_bathrooms'] = df['bathrooms_text'].fillna('0 baths').apply(lambda b_str: 1 if \"half\" in b_str.lower() else 0)\n",
    "    df = df.drop(columns =['bathrooms_text'])\n",
    "\n",
    "    # Convert License into a boolean\n",
    "    df['license'] = df['license'].fillna('0').apply(lambda lic: 0 if lic != '0' else 1).astype(int)\n",
    "    \n",
    "    # Remove special chars from price and convert it into a float\n",
    "    df['price'] = c.clean_price(df)\n",
    "    \n",
    "    # Consider only listings with price greatter than 0\n",
    "    df = df[df.price > .0]\n",
    "\n",
    "    # Fix NaNs with the mean of the column.\n",
    "    df = fillna_with_mean(df)\n",
    "    \n",
    "    #Categorical features\n",
    "    df['room_type'] = df['room_type'].astype('category').cat.codes\n",
    "    df['property_type'] = df['property_type'].astype('category').cat.codes\n",
    "    df['neighbourhood_cleansed'] = df['neighbourhood_cleansed'].astype('category').cat.codes\n",
    "    df['neighbourhood_group_cleansed'] = df['neighbourhood_group_cleansed'].astype('category').cat.codes\n",
    "    \n",
    "    return df\n",
    "\n",
    "def explode_lists(df):\n",
    "    \"\"\"\n",
    "    Explodes ameneties and host_verifications\n",
    "    \"\"\"\n",
    "    df['amenities'] = df['amenities'].apply(literal_eval) #convert to list type\n",
    "    df['amenities'] = df['amenities'].apply(lambda data: str(data)) \n",
    "    df = explode_list_to_col(df, 'id', 'amenities', 'amenity_')\n",
    "    \n",
    "    df['host_verifications'] = df['host_verifications'].apply(literal_eval) #convert to list type\n",
    "    df['host_verifications'] = df['host_verifications'].apply(lambda data: str(data))\n",
    "    df = explode_list_to_col(df, 'id', 'host_verifications', 'host_verifications_')\n",
    "    \n",
    "    #Drop unnecessary columns\n",
    "    df = df.drop(columns=['amenities', 'host_verifications'])\n",
    "    return df"
   ]
  },
  {
   "cell_type": "code",
   "execution_count": null,
   "metadata": {},
   "outputs": [],
   "source": [
    "cleaned_df = cleanup_and_normalize_dataset(listings_df.copy())"
   ]
  },
  {
   "cell_type": "code",
   "execution_count": null,
   "metadata": {},
   "outputs": [],
   "source": [
    "relevant_features = [\n",
    "    'id',\n",
    "    'amenities',\n",
    "    'host_verifications',\n",
    "    'price',\n",
    "    'host_is_superhost', \n",
    "    'host_identity_verified', \n",
    "    'property_type',\n",
    "    'room_type',\n",
    "    'neighbourhood_group_cleansed', \n",
    "    'neighbourhood_cleansed',\n",
    "    'accommodates',\n",
    "    'bedrooms',\n",
    "    'beds',\n",
    "    'num_bathrooms', \n",
    "    'shared_bathrooms',\n",
    "    'review_scores_rating',\n",
    "    'number_of_reviews',\n",
    "    'instant_bookable',\n",
    "    'license',\n",
    "    'availability_365',\n",
    "    'review_scores_location',\n",
    "    'host_response_rate',\n",
    "    'number_of_reviews_l30d',\n",
    "    'review_scores_checkin'\n",
    "]\n",
    "\n",
    "all_features_df = cleaned_df[relevant_features].copy()\n",
    "all_features_df = explode_lists(all_features_df)\n",
    "print(\"Original: [{}], Cleaned: [{}]\".format(listings_df.shape, all_features_df.shape))\n",
    "all_features_df.describe()"
   ]
  },
  {
   "cell_type": "markdown",
   "metadata": {},
   "source": [
    "### Clean up data\n",
    "Remove columns that won't contribute positively to the model.\n",
    "- Price == 0 or null\n",
    "- Amenities with all 0s or 1s\n",
    "- Amenities with less than 10 entries"
   ]
  },
  {
   "cell_type": "code",
   "execution_count": null,
   "metadata": {},
   "outputs": [],
   "source": [
    "all_cleaned_df = all_features_df.loc[:, (all_features_df != 1).any(axis=0)]\n",
    "all_cleaned_df = all_cleaned_df.loc[:, (all_features_df != 0).any(axis=0)]\n",
    "all_cleaned_df = all_cleaned_df[all_cleaned_df.price > .0]\n",
    "print(\"Original: [{}], Cleaned: [{}]\".format(all_features_df.shape, all_cleaned_df.shape))\n",
    "\n",
    "all_cleaned_df.head(5)"
   ]
  },
  {
   "cell_type": "markdown",
   "metadata": {},
   "source": [
    "## Check and fix price distribution\n",
    "\n",
    "Our target variable is a continuous variable and we need to check if the distribution is somehow skewed.\n",
    "As we can see by the charts bellow, our variable is quite skewed in that way we can use some strategies let's explore 3 of them SquareRoot, Log, BoxCox. So, BoxCox give us the best aproximation of the normal distribution for our target variable.\n"
   ]
  },
  {
   "cell_type": "code",
   "execution_count": null,
   "metadata": {},
   "outputs": [],
   "source": [
    "price_distribution = all_features_df[[\"price\"]].copy()\n",
    "price_distribution[\"price_log\"] = np.log(all_features_df[\"price\"])\n",
    "price_distribution[\"price_sqrt\"] = np.sqrt(all_features_df[\"price\"])\n",
    "price_distribution[\"price_box_cox\"],_ = stats.boxcox(all_features_df[\"price\"])\n",
    "price_distribution.hist(figsize=(20, 20), bins=25)"
   ]
  },
  {
   "cell_type": "code",
   "execution_count": null,
   "metadata": {},
   "outputs": [],
   "source": [
    "def train_model(df, cols_to_drop):\n",
    "    X = df.drop(columns=(['id', 'price'] + cols_to_drop)) #all_features_df.drop(columns=columns_to_drop, axis=1)\n",
    "    y, _ = stats.boxcox(df[\"price\"])\n",
    "    \n",
    "    X['accommodates'],_= stats.boxcox(X['accommodates'])\n",
    "    X['review_scores_rating'],_= stats.boxcox(X['review_scores_rating'])\n",
    "    \n",
    "    X_train, X_test, y_train, y_test = train_test_split(X, y, test_size=.3, random_state=1)\n",
    "\n",
    "    lm_model = LinearRegression(normalize=True) # Instantiate\n",
    "    lm_model.fit(X_train, y_train) #Fit\n",
    "\n",
    "    #Predict using your model\n",
    "    y_test_preds = lm_model.predict(X_test)\n",
    "    y_train_preds = lm_model.predict(X_train)\n",
    "\n",
    "    #Score using your model\n",
    "    test_score = r2_score(y_test, y_test_preds)\n",
    "    train_score = r2_score(y_train, y_train_preds)\n",
    "    \n",
    "    return X, y, X_train, X_test, y_train, y_test, y_test_preds, y_train_preds, test_score, train_score, lm_model"
   ]
  },
  {
   "cell_type": "code",
   "execution_count": null,
   "metadata": {},
   "outputs": [],
   "source": [
    "X, y, X_train, X_test, y_train, y_test, y_test_preds, y_train_preds, test_score, train_score, lm_model = train_model(all_features_df, ['id', 'price'])\n",
    "print(\"The rsquared on the training data is {}. The rsquared on the test data is {}.\".format(train_score, test_score))"
   ]
  },
  {
   "cell_type": "code",
   "execution_count": null,
   "metadata": {},
   "outputs": [],
   "source": [
    "coefs = c.get_model_coefs(lm_model, X)"
   ]
  },
  {
   "cell_type": "code",
   "execution_count": null,
   "metadata": {},
   "outputs": [],
   "source": [
    "import operator\n",
    "sorted_coefs = sorted(coefs.items(), key=operator.itemgetter(1), reverse=True)"
   ]
  },
  {
   "cell_type": "code",
   "execution_count": null,
   "metadata": {},
   "outputs": [],
   "source": [
    "sorted_coefs"
   ]
  },
  {
   "cell_type": "code",
   "execution_count": null,
   "metadata": {},
   "outputs": [],
   "source": []
  }
 ],
 "metadata": {
  "kernelspec": {
   "display_name": "Python 3",
   "language": "python",
   "name": "python3"
  },
  "language_info": {
   "codemirror_mode": {
    "name": "ipython",
    "version": 3
   },
   "file_extension": ".py",
   "mimetype": "text/x-python",
   "name": "python",
   "nbconvert_exporter": "python",
   "pygments_lexer": "ipython3",
   "version": "3.8.3"
  }
 },
 "nbformat": 4,
 "nbformat_minor": 4
}

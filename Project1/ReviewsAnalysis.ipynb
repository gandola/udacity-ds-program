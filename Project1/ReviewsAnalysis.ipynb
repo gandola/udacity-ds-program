{
 "cells": [
  {
   "cell_type": "code",
   "execution_count": null,
   "metadata": {},
   "outputs": [],
   "source": [
    "import numpy as np\n",
    "import pandas as pd\n",
    "import matplotlib.pyplot as plt\n",
    "import seaborn as sns\n",
    "import math\n",
    "import re\n",
    "from ast import literal_eval\n",
    "from scipy import stats\n",
    "import common as c\n",
    "\n",
    "%matplotlib inline\n",
    "\n",
    "plt.rcParams[\"figure.figsize\"] = (20,3)\n",
    "pd.set_option('display.max_columns', None)\n",
    "pd.set_option('display.max_rows', None)"
   ]
  },
  {
   "cell_type": "markdown",
   "metadata": {},
   "source": [
    "## Load dataset"
   ]
  },
  {
   "cell_type": "code",
   "execution_count": null,
   "metadata": {},
   "outputs": [],
   "source": [
    "listings_df = pd.read_csv('./data/boston/listings.csv')"
   ]
  },
  {
   "cell_type": "markdown",
   "metadata": {},
   "source": [
    "## Data Cleanup"
   ]
  },
  {
   "cell_type": "code",
   "execution_count": null,
   "metadata": {},
   "outputs": [],
   "source": [
    "## Look at the data\n",
    "listings_df[['id','review_scores_rating', 'price']].head(5)"
   ]
  },
  {
   "cell_type": "code",
   "execution_count": null,
   "metadata": {},
   "outputs": [],
   "source": [
    "reviews_prices_df = listings_df[['id','review_scores_rating', 'number_of_reviews', 'price']].copy()\n",
    "reviews_prices_df['price'] = c.clean_price(reviews_prices_df)\n",
    "reviews_prices_df = reviews_prices_df[reviews_prices_df['price'] > .0]\n",
    "reviews_prices_df.head()"
   ]
  },
  {
   "cell_type": "code",
   "execution_count": null,
   "metadata": {},
   "outputs": [],
   "source": [
    "corr_price_scores = reviews_prices_df['price'].corr(reviews_prices_df['review_scores_rating'])\n",
    "corr_nreviews_scores = reviews_prices_df['number_of_reviews'].corr(reviews_prices_df['review_scores_rating'])\n",
    "print(\"Correlation between price and reviews score rate is: {}\".format(corr_price_scores))\n",
    "print(\"Correlation between number of reviews and reviews score rate is: {}\".format(corr_nreviews_scores))"
   ]
  },
  {
   "cell_type": "code",
   "execution_count": null,
   "metadata": {},
   "outputs": [],
   "source": [
    "reviews_prices_df['price_range'] = c.create_pricing_groups(reviews_prices_df)\n",
    "reviews_prices_df.groupby('price_range').agg({\"review_scores_rating\": ['mean'], \"number_of_reviews\": ['mean']})"
   ]
  }
 ],
 "metadata": {
  "kernelspec": {
   "display_name": "Python 3",
   "language": "python",
   "name": "python3"
  },
  "language_info": {
   "codemirror_mode": {
    "name": "ipython",
    "version": 3
   },
   "file_extension": ".py",
   "mimetype": "text/x-python",
   "name": "python",
   "nbconvert_exporter": "python",
   "pygments_lexer": "ipython3",
   "version": "3.8.3"
  }
 },
 "nbformat": 4,
 "nbformat_minor": 4
}

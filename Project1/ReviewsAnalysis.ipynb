{
 "cells": [
  {
   "cell_type": "markdown",
   "metadata": {},
   "source": [
    "#### Reviews Analysis\n",
    "\n",
    "This notebook studies the releation between the different pricing groups and the number of reviews and scores.\n",
    "\n",
    "The defined pricing groups are (same than the amenities study):\n",
    "- low: < 25q\n",
    "- medium-low: >= 25q and < 40q\n",
    "- medium: >= 40q and < 65q\n",
    "- medium-high:  >= 65q and < 75q\n",
    "- high: > 75q"
   ]
  },
  {
   "cell_type": "code",
   "execution_count": 1,
   "metadata": {},
   "outputs": [],
   "source": [
    "import numpy as np\n",
    "import pandas as pd\n",
    "import math\n",
    "import re\n",
    "import common as c\n",
    "\n",
    "pd.set_option('display.max_columns', None)\n",
    "pd.set_option('display.max_rows', None)"
   ]
  },
  {
   "cell_type": "markdown",
   "metadata": {},
   "source": [
    "## Data Understanding"
   ]
  },
  {
   "cell_type": "code",
   "execution_count": 2,
   "metadata": {},
   "outputs": [],
   "source": [
    "listings_df = pd.read_csv('./data/boston/listings.csv')"
   ]
  },
  {
   "cell_type": "code",
   "execution_count": 3,
   "metadata": {},
   "outputs": [
    {
     "data": {
      "text/html": [
       "<div>\n",
       "<style scoped>\n",
       "    .dataframe tbody tr th:only-of-type {\n",
       "        vertical-align: middle;\n",
       "    }\n",
       "\n",
       "    .dataframe tbody tr th {\n",
       "        vertical-align: top;\n",
       "    }\n",
       "\n",
       "    .dataframe thead th {\n",
       "        text-align: right;\n",
       "    }\n",
       "</style>\n",
       "<table border=\"1\" class=\"dataframe\">\n",
       "  <thead>\n",
       "    <tr style=\"text-align: right;\">\n",
       "      <th></th>\n",
       "      <th>id</th>\n",
       "      <th>review_scores_rating</th>\n",
       "      <th>number_of_reviews</th>\n",
       "      <th>price</th>\n",
       "    </tr>\n",
       "  </thead>\n",
       "  <tbody>\n",
       "    <tr>\n",
       "      <th>0</th>\n",
       "      <td>3781</td>\n",
       "      <td>99.0</td>\n",
       "      <td>16</td>\n",
       "      <td>$146.00</td>\n",
       "    </tr>\n",
       "    <tr>\n",
       "      <th>1</th>\n",
       "      <td>5506</td>\n",
       "      <td>95.0</td>\n",
       "      <td>107</td>\n",
       "      <td>$145.00</td>\n",
       "    </tr>\n",
       "    <tr>\n",
       "      <th>2</th>\n",
       "      <td>6695</td>\n",
       "      <td>96.0</td>\n",
       "      <td>115</td>\n",
       "      <td>$169.00</td>\n",
       "    </tr>\n",
       "    <tr>\n",
       "      <th>3</th>\n",
       "      <td>10730</td>\n",
       "      <td>96.0</td>\n",
       "      <td>32</td>\n",
       "      <td>$85.00</td>\n",
       "    </tr>\n",
       "    <tr>\n",
       "      <th>4</th>\n",
       "      <td>10813</td>\n",
       "      <td>98.0</td>\n",
       "      <td>10</td>\n",
       "      <td>$87.00</td>\n",
       "    </tr>\n",
       "  </tbody>\n",
       "</table>\n",
       "</div>"
      ],
      "text/plain": [
       "      id  review_scores_rating  number_of_reviews    price\n",
       "0   3781                  99.0                 16  $146.00\n",
       "1   5506                  95.0                107  $145.00\n",
       "2   6695                  96.0                115  $169.00\n",
       "3  10730                  96.0                 32   $85.00\n",
       "4  10813                  98.0                 10   $87.00"
      ]
     },
     "execution_count": 3,
     "metadata": {},
     "output_type": "execute_result"
    }
   ],
   "source": [
    "## Look at the data\n",
    "reviews_prices_df = listings_df[['id','review_scores_rating', 'number_of_reviews', 'price']].copy()\n",
    "reviews_prices_df.head()"
   ]
  },
  {
   "cell_type": "markdown",
   "metadata": {},
   "source": [
    "## Data Preparation"
   ]
  },
  {
   "cell_type": "code",
   "execution_count": 4,
   "metadata": {},
   "outputs": [
    {
     "data": {
      "text/html": [
       "<div>\n",
       "<style scoped>\n",
       "    .dataframe tbody tr th:only-of-type {\n",
       "        vertical-align: middle;\n",
       "    }\n",
       "\n",
       "    .dataframe tbody tr th {\n",
       "        vertical-align: top;\n",
       "    }\n",
       "\n",
       "    .dataframe thead th {\n",
       "        text-align: right;\n",
       "    }\n",
       "</style>\n",
       "<table border=\"1\" class=\"dataframe\">\n",
       "  <thead>\n",
       "    <tr style=\"text-align: right;\">\n",
       "      <th></th>\n",
       "      <th>id</th>\n",
       "      <th>review_scores_rating</th>\n",
       "      <th>number_of_reviews</th>\n",
       "      <th>price</th>\n",
       "    </tr>\n",
       "  </thead>\n",
       "  <tbody>\n",
       "    <tr>\n",
       "      <th>0</th>\n",
       "      <td>3781</td>\n",
       "      <td>99.0</td>\n",
       "      <td>16</td>\n",
       "      <td>146.0</td>\n",
       "    </tr>\n",
       "    <tr>\n",
       "      <th>1</th>\n",
       "      <td>5506</td>\n",
       "      <td>95.0</td>\n",
       "      <td>107</td>\n",
       "      <td>145.0</td>\n",
       "    </tr>\n",
       "    <tr>\n",
       "      <th>2</th>\n",
       "      <td>6695</td>\n",
       "      <td>96.0</td>\n",
       "      <td>115</td>\n",
       "      <td>169.0</td>\n",
       "    </tr>\n",
       "    <tr>\n",
       "      <th>3</th>\n",
       "      <td>10730</td>\n",
       "      <td>96.0</td>\n",
       "      <td>32</td>\n",
       "      <td>85.0</td>\n",
       "    </tr>\n",
       "    <tr>\n",
       "      <th>4</th>\n",
       "      <td>10813</td>\n",
       "      <td>98.0</td>\n",
       "      <td>10</td>\n",
       "      <td>87.0</td>\n",
       "    </tr>\n",
       "  </tbody>\n",
       "</table>\n",
       "</div>"
      ],
      "text/plain": [
       "      id  review_scores_rating  number_of_reviews  price\n",
       "0   3781                  99.0                 16  146.0\n",
       "1   5506                  95.0                107  145.0\n",
       "2   6695                  96.0                115  169.0\n",
       "3  10730                  96.0                 32   85.0\n",
       "4  10813                  98.0                 10   87.0"
      ]
     },
     "execution_count": 4,
     "metadata": {},
     "output_type": "execute_result"
    }
   ],
   "source": [
    "# Clean the price of all non-numeric chars and convert it to float.\n",
    "reviews_prices_df['price'] = c.clean_price(reviews_prices_df)\n",
    "\n",
    "# Exclude listings with prices equal to ZERO.\n",
    "reviews_prices_df = reviews_prices_df[reviews_prices_df['price'] > .0]\n",
    "reviews_prices_df.head()"
   ]
  },
  {
   "cell_type": "code",
   "execution_count": 5,
   "metadata": {},
   "outputs": [
    {
     "name": "stdout",
     "output_type": "stream",
     "text": [
      "Correlation between price and reviews score rate is: 0.04094513093706753\n",
      "Correlation between number of reviews and reviews score rate is: 0.1358165163518211\n"
     ]
    }
   ],
   "source": [
    "# Checks the correlation between Price and Review Scores\n",
    "# Checks the correlation between Price and Number of Reviews.\n",
    "corr_price_scores = reviews_prices_df['price'].corr(reviews_prices_df['review_scores_rating'])\n",
    "corr_nreviews_scores = reviews_prices_df['number_of_reviews'].corr(reviews_prices_df['review_scores_rating'])\n",
    "print(\"Correlation between price and reviews score rate is: {}\".format(corr_price_scores))\n",
    "print(\"Correlation between number of reviews and reviews score rate is: {}\".format(corr_nreviews_scores))"
   ]
  },
  {
   "cell_type": "markdown",
   "metadata": {},
   "source": [
    "Price has a positive correlation between both, **Review Scores** and **Number of Reviews** which indicates that there is a relation between them."
   ]
  },
  {
   "cell_type": "code",
   "execution_count": 6,
   "metadata": {},
   "outputs": [
    {
     "data": {
      "text/html": [
       "<div>\n",
       "<style scoped>\n",
       "    .dataframe tbody tr th:only-of-type {\n",
       "        vertical-align: middle;\n",
       "    }\n",
       "\n",
       "    .dataframe tbody tr th {\n",
       "        vertical-align: top;\n",
       "    }\n",
       "\n",
       "    .dataframe thead tr th {\n",
       "        text-align: left;\n",
       "    }\n",
       "\n",
       "    .dataframe thead tr:last-of-type th {\n",
       "        text-align: right;\n",
       "    }\n",
       "</style>\n",
       "<table border=\"1\" class=\"dataframe\">\n",
       "  <thead>\n",
       "    <tr>\n",
       "      <th></th>\n",
       "      <th>review_scores_rating</th>\n",
       "      <th>number_of_reviews</th>\n",
       "    </tr>\n",
       "    <tr>\n",
       "      <th></th>\n",
       "      <th>mean</th>\n",
       "      <th>mean</th>\n",
       "    </tr>\n",
       "    <tr>\n",
       "      <th>price_range</th>\n",
       "      <th></th>\n",
       "      <th></th>\n",
       "    </tr>\n",
       "  </thead>\n",
       "  <tbody>\n",
       "    <tr>\n",
       "      <th>high</th>\n",
       "      <td>94.615646</td>\n",
       "      <td>32.838323</td>\n",
       "    </tr>\n",
       "    <tr>\n",
       "      <th>low</th>\n",
       "      <td>93.580938</td>\n",
       "      <td>39.195572</td>\n",
       "    </tr>\n",
       "    <tr>\n",
       "      <th>medium</th>\n",
       "      <td>92.318105</td>\n",
       "      <td>38.355372</td>\n",
       "    </tr>\n",
       "    <tr>\n",
       "      <th>medium_high</th>\n",
       "      <td>95.298343</td>\n",
       "      <td>31.126126</td>\n",
       "    </tr>\n",
       "    <tr>\n",
       "      <th>medium_low</th>\n",
       "      <td>93.750000</td>\n",
       "      <td>48.552063</td>\n",
       "    </tr>\n",
       "  </tbody>\n",
       "</table>\n",
       "</div>"
      ],
      "text/plain": [
       "            review_scores_rating number_of_reviews\n",
       "                            mean              mean\n",
       "price_range                                       \n",
       "high                   94.615646         32.838323\n",
       "low                    93.580938         39.195572\n",
       "medium                 92.318105         38.355372\n",
       "medium_high            95.298343         31.126126\n",
       "medium_low             93.750000         48.552063"
      ]
     },
     "execution_count": 6,
     "metadata": {},
     "output_type": "execute_result"
    }
   ],
   "source": [
    "# Shows the mean of reviews scores and number of reviews by pricing groups.\n",
    "reviews_prices_df['price_range'] = c.create_pricing_groups(reviews_prices_df)\n",
    "reviews_prices_df_agg = reviews_prices_df.groupby('price_range').agg({\"review_scores_rating\": ['mean'], \"number_of_reviews\": ['mean']})\n",
    "reviews_prices_df_agg"
   ]
  },
  {
   "cell_type": "code",
   "execution_count": 7,
   "metadata": {},
   "outputs": [
    {
     "data": {
      "text/plain": [
       "<matplotlib.axes._subplots.AxesSubplot at 0x12523bc40>"
      ]
     },
     "execution_count": 7,
     "metadata": {},
     "output_type": "execute_result"
    },
    {
     "data": {
      "image/png": "[encoded data removed]",
      "text/plain": [
       "<Figure size 504x360 with 1 Axes>"
      ]
     },
     "metadata": {
      "needs_background": "light"
     },
     "output_type": "display_data"
    }
   ],
   "source": [
    "reviews_prices_df_agg.plot.bar(stacked=True,figsize=(7,5))"
   ]
  },
  {
   "cell_type": "markdown",
   "metadata": {},
   "source": [
    "## Conclusions\n",
    "\n",
    "As we can see by the table above, we cannot say that units with higher pricing have better reviews since the low pricing group has better scores and more reviews than the medium pricing group. \n",
    "\n",
    "Units with higher prices have less but better reviews which may indicate a lower number of rentals or perhaps the target group does not really care much on reviewing."
   ]
  }
 ],
 "metadata": {
  "kernelspec": {
   "display_name": "Python 3",
   "language": "python",
   "name": "python3"
  },
  "language_info": {
   "codemirror_mode": {
    "name": "ipython",
    "version": 3
   },
   "file_extension": ".py",
   "mimetype": "text/x-python",
   "name": "python",
   "nbconvert_exporter": "python",
   "pygments_lexer": "ipython3",
   "version": "3.8.3"
  }
 },
 "nbformat": 4,
 "nbformat_minor": 4
}
